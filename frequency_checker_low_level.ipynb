{
 "cells": [
  {
   "cell_type": "code",
   "execution_count": 25,
   "metadata": {},
   "outputs": [],
   "source": [
    "import pandas as pd\n",
    "import os"
   ]
  },
  {
   "cell_type": "code",
   "execution_count": 26,
   "metadata": {},
   "outputs": [],
   "source": [
    "low_level_func_dir = '/mydata/rbachkaniwala3/code/rajveerb-ml-pipeline-benchmark/code/image_classification/analysis/low_level_func/logs'"
   ]
  },
  {
   "cell_type": "code",
   "execution_count": 27,
   "metadata": {},
   "outputs": [
    {
     "name": "stdout",
     "output_type": "stream",
     "text": [
      "RandomResizedCrop\n",
      "Collation\n",
      "convertRGB\n",
      "ToTensor\n",
      "Normalize\n",
      "RandomHorizontalFlip\n"
     ]
    }
   ],
   "source": [
    "# recursively get all files in the directory\n",
    "\n",
    "op_to_df = {}\n",
    "for root, d, files in os.walk(low_level_func_dir):\n",
    "    if files != []:\n",
    "        root = root.rstrip('/')\n",
    "        root_dir = root.split('/')[-1]\n",
    "        print(root_dir)\n",
    "        # create an empty dataframe\n",
    "        df = pd.DataFrame()\n",
    "        for file in files:\n",
    "            file_path = os.path.join(root, file)\n",
    "            # read the file as a dataframe\n",
    "            temp_df = pd.read_csv(file_path)\n",
    "            # concatenate the dataframe to the df dataframe\n",
    "            df = pd.concat([df, temp_df])\n",
    "        \n",
    "        # add the dataframe to the dictionary\n",
    "        op_to_df[root_dir] = df"
   ]
  },
  {
   "cell_type": "code",
   "execution_count": 28,
   "metadata": {},
   "outputs": [
    {
     "name": "stdout",
     "output_type": "stream",
     "text": [
      "\t func@0x1e7f80 1 0.477 ms \n",
      "\t\t 21.680677554733595 %\n",
      "\t pymalloc_alloc 1 0.224 ms \n",
      "\t\t 10.709354106400525 %\n",
      "\t c10::impl::OperatorEntry::lookup 1 0.756 ms \n",
      "\t\t 32.50063549600507 %\n",
      "\t __GI___pthread_mutex_lock 1 0.627 ms \n",
      "\t\t 27.65757126557541 %\n",
      "\t __GI___libc_malloc 1 0.948 ms \n",
      "\t\t 39.22531361811708 %\n",
      "\t __libc_calloc 1 0.74 ms \n",
      "\t\t 31.91445261266238 %\n"
     ]
    }
   ],
   "source": [
    "total_experiments = 5\n",
    "sampling_interval = 0.01 # in ms\n",
    "lowest = None\n",
    "# get all with count < 2\n",
    "count_more_than_10 = []\n",
    "# loop through the op_to_df dictionary and generate a count column for how many times the same function in 'Function' column appears\n",
    "for op, df in op_to_df.items():\n",
    "    # print(op)\n",
    "    op_to_df[op]['count'] = op_to_df[op].groupby('Function')['Function'].transform('count')\n",
    "    # also get average time for each function\n",
    "    op_to_df[op]['avg_time'] = op_to_df[op].groupby('Function')['CPU Time'].transform('mean')\n",
    "    # keep only Function and count columns\n",
    "    op_to_df[op] = op_to_df[op][['Function', 'count','avg_time']]\n",
    "    # remove redundant rows\n",
    "    op_to_df[op] = op_to_df[op].drop_duplicates()\n",
    "    \n",
    "    # iterate through the rows and print the function and count\n",
    "    for index, row in op_to_df[op].iterrows():\n",
    "\n",
    "        # if function takes more than 10 ms on average, then it is will be seen every experiment\n",
    "        if float(row['avg_time']) > sampling_interval:\n",
    "            probability = 1\n",
    "        else:\n",
    "            probability = float(row['avg_time']) / sampling_interval\n",
    "        probability_of_seeing = 100*(1-(1-probability)**(total_experiments))\n",
    "\n",
    "        if int(row['count']) > 10:\n",
    "            count_more_than_10.append(f\"Operation: {op}, Function: {row['Function']}, avg_time: {row['avg_time']*1000} ms, probability_of_seeing: {probability_of_seeing}%\")\n",
    "        if float(row['avg_time'])*1000 < 1:\n",
    "            # prints if avg_time is less than 1 ms\n",
    "            print('\\t',row['Function'], row['count'], row['avg_time']*1000,'ms','\\n\\t\\t', probability_of_seeing,'%')\n",
    "\n",
    "        if lowest is None or probability < lowest[0]:\n",
    "            lowest = [probability_of_seeing, row['Function'], row['avg_time']]\n"
   ]
  },
  {
   "cell_type": "code",
   "execution_count": 29,
   "metadata": {},
   "outputs": [
    {
     "name": "stdout",
     "output_type": "stream",
     "text": [
      "Lowest probability: 31.91445261266238 % for function: __libc_calloc with avg_time: 0.74 ms\n"
     ]
    }
   ],
   "source": [
    "print('Lowest probability:', lowest[0], '% for function:', lowest[1], 'with avg_time:', lowest[2] *1000, 'ms')"
   ]
  },
  {
   "cell_type": "code",
   "execution_count": 30,
   "metadata": {},
   "outputs": [
    {
     "name": "stdout",
     "output_type": "stream",
     "text": [
      "Functions with count > 10:\n",
      "Operation: RandomResizedCrop, Function: ImagingResampleHorizontal_8bpc, avg_time: 414.09835 ms, probability_of_seeing: 100%\n",
      "Operation: RandomResizedCrop, Function: __memmove_avx_unaligned_erms, avg_time: 110.0085 ms, probability_of_seeing: 100%\n",
      "Operation: RandomResizedCrop, Function: _int_free, avg_time: 20.0 ms, probability_of_seeing: 100%\n",
      "Operation: RandomResizedCrop, Function: ImagingResampleVertical_8bpc, avg_time: 9.713642857142856 ms, probability_of_seeing: 99.99999807451516%\n",
      "Operation: Collation, Function: c10::function_ref<void (char**, long const*, long, long)>::callback_fn<at::native::AVX2::VectorizedLoop2d<at::native::AVX2::direct_copy_kernel(at::TensorIteratorBase&)::{lambda()#3}::operator()(void) const::{lambda()#7}::operator()(void) const::{lambda(float)#1}, at::native::AVX2::direct_copy_kernel(at::TensorIteratorBase&)::{lambda()#3}::operator()(void) const::{lambda()#7}::operator()(void) const::{lambda(at::vec::AVX2::Vectorized<float>)#2}>>, avg_time: 4875.0578 ms, probability_of_seeing: 100%\n",
      "Operation: Collation, Function: __kmp_fork_barrier, avg_time: 2513.8269 ms, probability_of_seeing: 100%\n",
      "Operation: Collation, Function: __kmp_join_barrier, avg_time: 160.20399999999998 ms, probability_of_seeing: 100%\n",
      "Operation: Collation, Function: GOMP_parallel, avg_time: 244.51454999999996 ms, probability_of_seeing: 100%\n",
      "Operation: convertRGB, Function: jpeg_idct_16x16, avg_time: 2258.7615 ms, probability_of_seeing: 100%\n",
      "Operation: convertRGB, Function: __memmove_avx_unaligned_erms, avg_time: 1545.9957 ms, probability_of_seeing: 100%\n",
      "Operation: convertRGB, Function: ImagingUnpackRGB, avg_time: 1494.3053000000002 ms, probability_of_seeing: 100%\n",
      "Operation: convertRGB, Function: ycc_rgb_convert, avg_time: 1264.475 ms, probability_of_seeing: 100%\n",
      "Operation: convertRGB, Function: jpeg_idct_islow, avg_time: 610.13685 ms, probability_of_seeing: 100%\n",
      "Operation: convertRGB, Function: decompress_onepass, avg_time: 79.80265 ms, probability_of_seeing: 100%\n",
      "Operation: convertRGB, Function: decode_mcu, avg_time: 117.77525 ms, probability_of_seeing: 100%\n",
      "Operation: convertRGB, Function: __memset_avx2_unaligned_erms, avg_time: 28.801000000000002 ms, probability_of_seeing: 100%\n",
      "Operation: convertRGB, Function: jpeg_fill_bit_buffer, avg_time: 44.89 ms, probability_of_seeing: 100%\n",
      "Operation: convertRGB, Function: __libc_calloc, avg_time: 13.39475 ms, probability_of_seeing: 100%\n",
      "Operation: ToTensor, Function: at::native::AVX2::vectorized_loop<at::native::(anonymous namespace)::div_true_kernel(at::TensorIteratorBase&)::{lambda()#1}::operator()(void) const::{lambda()#2}::operator()(void) const::{lambda(floatfloat)#1}&, at::native::(anonymous namespace)::div_true_kernel(at::TensorIteratorBase&)::{lambda()#1}::operator()(void) const::{lambda()#2}::operator()(void) const::{lambda(at::vec::AVX2::Vectorized<float>at::vec::AVX2::Vectorized<float>)#2}&>.isra.0, avg_time: 10170.279750000002 ms, probability_of_seeing: 100%\n",
      "Operation: ToTensor, Function: c10::function_ref<void (char**, long const*, long, long)>::callback_fn<at::TensorIteratorBase::loop_2d_from_1d<at::native::AVX2::copy_kernel(at::TensorIterator&, bool)::{lambda()#1}::operator()(void) const::{lambda()#7}::operator()(void) const::{lambda()#1}::operator()(void) const::{lambda()#1}::operator()(void) const::{lambda(char**long const*, long)#1}>(, signed char, at::native::AVX2::copy_kernel(at::TensorIterator&, bool)::{lambda()#1}::operator()(void) const::{lambda()#7}::operator()(void) const::{lambda()#1}::operator()(void) const::{lambda()#1}::operator()(void) const::{lambda(char**long const*, long)#1} const&)::{lambda(char**long const*, long, long)#1}>, avg_time: 8173.0587000000005 ms, probability_of_seeing: 100%\n",
      "Operation: ToTensor, Function: c10::function_ref<void (char**, long const*, long, long)>::callback_fn<at::native::AVX2::VectorizedLoop2d<at::native::AVX2::direct_copy_kernel(at::TensorIteratorBase&)::{lambda()#3}::operator()(void) const::{lambda()#1}::operator()(void) const::{lambda(unsigned char)#1}, at::native::AVX2::direct_copy_kernel(at::TensorIteratorBase&)::{lambda()#3}::operator()(void) const::{lambda()#1}::operator()(void) const::{lambda(at::vec::AVX2::Vectorized<unsigned char>)#2}>>, avg_time: 3357.8049499999997 ms, probability_of_seeing: 100%\n",
      "Operation: ToTensor, Function: __memmove_avx_unaligned_erms, avg_time: 1412.2978500000002 ms, probability_of_seeing: 100%\n",
      "Operation: ToTensor, Function: ImagingPackRGB, avg_time: 802.9908000000001 ms, probability_of_seeing: 100%\n",
      "Operation: ToTensor, Function: gomp_simple_barrier_wait, avg_time: 42.625875 ms, probability_of_seeing: 100%\n",
      "Operation: ToTensor, Function: munmap, avg_time: 34.049299999999995 ms, probability_of_seeing: 100%\n",
      "Operation: ToTensor, Function: gomp_team_barrier_wait_end, avg_time: 55.791999999999994 ms, probability_of_seeing: 100%\n",
      "Operation: ToTensor, Function: _int_free, avg_time: 20.98555 ms, probability_of_seeing: 100%\n",
      "Operation: Normalize, Function: c10::function_ref<void (char**, long const*, long, long)>::callback_fn<at::native::AVX2::VectorizedLoop2d<at::native::AVX2::direct_copy_kernel(at::TensorIteratorBase&)::{lambda()#3}::operator()(void) const::{lambda()#7}::operator()(void) const::{lambda(float)#1}, at::native::AVX2::direct_copy_kernel(at::TensorIteratorBase&)::{lambda()#3}::operator()(void) const::{lambda()#7}::operator()(void) const::{lambda(at::vec::AVX2::Vectorized<float>)#2}>>, avg_time: 11832.46705 ms, probability_of_seeing: 100%\n",
      "Operation: Normalize, Function: at::native::AVX2::vectorized_loop<at::native::(anonymous namespace)::div_true_kernel(at::TensorIteratorBase&)::{lambda()#1}::operator()(void) const::{lambda()#2}::operator()(void) const::{lambda(floatfloat)#1}&, at::native::(anonymous namespace)::div_true_kernel(at::TensorIteratorBase&)::{lambda()#1}::operator()(void) const::{lambda()#2}::operator()(void) const::{lambda(at::vec::AVX2::Vectorized<float>at::vec::AVX2::Vectorized<float>)#2}&>.isra.0, avg_time: 2442.98035 ms, probability_of_seeing: 100%\n",
      "Operation: Normalize, Function: c10::function_ref<void (char**, long const*, long, long)>::callback_fn<at::native::AVX2::VectorizedLoop2d<at::native::(anonymous namespace)::add_kernel(at::TensorIteratorBase&, c10::Scalar const&)::{lambda()#1}::operator()(void) const::{lambda()#7}::operator()(void) const::{lambda(floatfloat)#1}, at::native::(anonymous namespace)::add_kernel(at::TensorIteratorBase&, c10::Scalar const&)::{lambda()#1}::operator()(void) const::{lambda()#7}::operator()(void) const::{lambda(at::vec::AVX2::Vectorized<float>at::vec::AVX2::Vectorized<float>)#2}>>, avg_time: 2447.756 ms, probability_of_seeing: 100%\n",
      "Operation: Normalize, Function: gomp_team_barrier_wait_end, avg_time: 50.11435000000001 ms, probability_of_seeing: 100%\n",
      "Operation: Normalize, Function: munmap, avg_time: 10.0 ms, probability_of_seeing: 100.0%\n",
      "Operation: RandomHorizontalFlip, Function: ImagingFlipLeftRight, avg_time: 767.6669499999999 ms, probability_of_seeing: 100%\n"
     ]
    }
   ],
   "source": [
    "# loop through the count_less_than_2 list and print the function and count\n",
    "print('Functions with count > 10:')\n",
    "for item in count_more_than_10:\n",
    "    print(item)"
   ]
  }
 ],
 "metadata": {
  "kernelspec": {
   "display_name": "torch2",
   "language": "python",
   "name": "python3"
  },
  "language_info": {
   "codemirror_mode": {
    "name": "ipython",
    "version": 3
   },
   "file_extension": ".py",
   "mimetype": "text/x-python",
   "name": "python",
   "nbconvert_exporter": "python",
   "pygments_lexer": "ipython3",
   "version": "3.10.11"
  },
  "orig_nbformat": 4
 },
 "nbformat": 4,
 "nbformat_minor": 2
}

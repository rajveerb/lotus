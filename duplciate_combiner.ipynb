{
 "cells": [
  {
   "cell_type": "code",
   "execution_count": 16,
   "metadata": {},
   "outputs": [],
   "source": [
    "import pandas as pd"
   ]
  },
  {
   "cell_type": "code",
   "execution_count": 17,
   "metadata": {},
   "outputs": [],
   "source": [
    "# drop index\n",
    "duplicate_rows_df = pd.read_csv(\"/mydata/rbachkaniwala3/code/rajveerb-ml-pipeline-benchmark/duplicateRowsDF.csv\")"
   ]
  },
  {
   "cell_type": "code",
   "execution_count": 18,
   "metadata": {},
   "outputs": [
    {
     "data": {
      "text/html": [
       "<div>\n",
       "<style scoped>\n",
       "    .dataframe tbody tr th:only-of-type {\n",
       "        vertical-align: middle;\n",
       "    }\n",
       "\n",
       "    .dataframe tbody tr th {\n",
       "        vertical-align: top;\n",
       "    }\n",
       "\n",
       "    .dataframe thead th {\n",
       "        text-align: right;\n",
       "    }\n",
       "</style>\n",
       "<table border=\"1\" class=\"dataframe\">\n",
       "  <thead>\n",
       "    <tr style=\"text-align: right;\">\n",
       "      <th></th>\n",
       "      <th>Function</th>\n",
       "      <th>CPU Time (s)</th>\n",
       "      <th>Retiring</th>\n",
       "      <th>Front-End Bound</th>\n",
       "      <th>Bad Speculation</th>\n",
       "      <th>L1 Bound</th>\n",
       "      <th>L2 Bound</th>\n",
       "      <th>L3 Bound</th>\n",
       "      <th>Memory Bandwidth</th>\n",
       "      <th>Local DRAM</th>\n",
       "      <th>Remote DRAM</th>\n",
       "      <th>Remote Cache</th>\n",
       "      <th>Store Bound</th>\n",
       "      <th>Core Bound</th>\n",
       "      <th>CPU Time %</th>\n",
       "      <th>config</th>\n",
       "    </tr>\n",
       "  </thead>\n",
       "  <tbody>\n",
       "  </tbody>\n",
       "</table>\n",
       "</div>"
      ],
      "text/plain": [
       "Empty DataFrame\n",
       "Columns: [Function, CPU Time (s), Retiring, Front-End Bound, Bad Speculation, L1 Bound, L2 Bound, L3 Bound, Memory Bandwidth, Local DRAM, Remote DRAM, Remote Cache, Store Bound, Core Bound, CPU Time %, config]\n",
       "Index: []"
      ]
     },
     "execution_count": 18,
     "metadata": {},
     "output_type": "execute_result"
    }
   ],
   "source": [
    "duplicate_rows_df.head()"
   ]
  },
  {
   "cell_type": "code",
   "execution_count": 19,
   "metadata": {},
   "outputs": [
    {
     "name": "stdout",
     "output_type": "stream",
     "text": [
      "Function            object\n",
      "CPU Time (s)        object\n",
      "Retiring            object\n",
      "Front-End Bound     object\n",
      "Bad Speculation     object\n",
      "L1 Bound            object\n",
      "L2 Bound            object\n",
      "L3 Bound            object\n",
      "Memory Bandwidth    object\n",
      "Local DRAM          object\n",
      "Remote DRAM         object\n",
      "Remote Cache        object\n",
      "Store Bound         object\n",
      "Core Bound          object\n",
      "CPU Time %          object\n",
      "config              object\n",
      "dtype: object\n"
     ]
    }
   ],
   "source": [
    "# print type of each column\n",
    "print(duplicate_rows_df.dtypes)"
   ]
  },
  {
   "cell_type": "code",
   "execution_count": 20,
   "metadata": {},
   "outputs": [],
   "source": [
    "# combine duplicate rows across all columns except for the 'Function' and 'config' column and add the values in the remaining columns\n",
    "duplicate_rows_df = duplicate_rows_df.groupby(['Function', 'config'], as_index=False).sum()"
   ]
  },
  {
   "cell_type": "code",
   "execution_count": 21,
   "metadata": {},
   "outputs": [
    {
     "data": {
      "text/html": [
       "<div>\n",
       "<style scoped>\n",
       "    .dataframe tbody tr th:only-of-type {\n",
       "        vertical-align: middle;\n",
       "    }\n",
       "\n",
       "    .dataframe tbody tr th {\n",
       "        vertical-align: top;\n",
       "    }\n",
       "\n",
       "    .dataframe thead th {\n",
       "        text-align: right;\n",
       "    }\n",
       "</style>\n",
       "<table border=\"1\" class=\"dataframe\">\n",
       "  <thead>\n",
       "    <tr style=\"text-align: right;\">\n",
       "      <th></th>\n",
       "      <th>Function</th>\n",
       "      <th>config</th>\n",
       "      <th>CPU Time (s)</th>\n",
       "      <th>Retiring</th>\n",
       "      <th>Front-End Bound</th>\n",
       "      <th>Bad Speculation</th>\n",
       "      <th>L1 Bound</th>\n",
       "      <th>L2 Bound</th>\n",
       "      <th>L3 Bound</th>\n",
       "      <th>Memory Bandwidth</th>\n",
       "      <th>Local DRAM</th>\n",
       "      <th>Remote DRAM</th>\n",
       "      <th>Remote Cache</th>\n",
       "      <th>Store Bound</th>\n",
       "      <th>Core Bound</th>\n",
       "      <th>CPU Time %</th>\n",
       "    </tr>\n",
       "  </thead>\n",
       "  <tbody>\n",
       "  </tbody>\n",
       "</table>\n",
       "</div>"
      ],
      "text/plain": [
       "Empty DataFrame\n",
       "Columns: [Function, config, CPU Time (s), Retiring, Front-End Bound, Bad Speculation, L1 Bound, L2 Bound, L3 Bound, Memory Bandwidth, Local DRAM, Remote DRAM, Remote Cache, Store Bound, Core Bound, CPU Time %]\n",
       "Index: []"
      ]
     },
     "execution_count": 21,
     "metadata": {},
     "output_type": "execute_result"
    }
   ],
   "source": [
    "duplicate_rows_df.head(30)"
   ]
  }
 ],
 "metadata": {
  "kernelspec": {
   "display_name": "torch2",
   "language": "python",
   "name": "python3"
  },
  "language_info": {
   "codemirror_mode": {
    "name": "ipython",
    "version": 3
   },
   "file_extension": ".py",
   "mimetype": "text/x-python",
   "name": "python",
   "nbconvert_exporter": "python",
   "pygments_lexer": "ipython3",
   "version": "3.10.11"
  },
  "orig_nbformat": 4
 },
 "nbformat": 4,
 "nbformat_minor": 2
}

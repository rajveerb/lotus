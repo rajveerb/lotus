{
 "cells": [
  {
   "cell_type": "code",
   "execution_count": 9,
   "metadata": {},
   "outputs": [],
   "source": [
    "import pandas as pd\n",
    "import os,json"
   ]
  },
  {
   "cell_type": "code",
   "execution_count": 10,
   "metadata": {},
   "outputs": [
    {
     "name": "stdout",
     "output_type": "stream",
     "text": [
      "Common functions for RandomHorizontalFlip are {'__libc_calloc|libc.so.6', '__GI___pthread_mutex_lock|libpthread.so.0', '_PyEval_EvalFrameDefault|python3.10', 'ImagingFlipLeftRight|_imaging.cpython-310-x86_64-linux-gnu.so', '__GI___libc_malloc|libc.so.6', 'c10::impl::OperatorEntry::lookup|libtorch_cpu.so'}\n",
      "Common functions for Loader are {'__libc_calloc|libc.so.6', 'read|python3.10', '__memmove_avx_unaligned_erms|libc.so.6', '_int_free|libc.so.6', '__GI___libc_malloc|libc.so.6', 'PyEval_RestoreThread|python3.10', 'vgetargs1_impl|python3.10', '__memset_avx2_unaligned_erms|libc.so.6', 'ImagingJpegDecode|_imaging.cpython-310-x86_64-linux-gnu.so', 'PyVectorcall_Function|python3.10', 'decode_mcu|libjpeg.so.9', 'PyThread_get_thread_ident|python3.10', 'ycc_rgb_convert|libjpeg.so.9', '_Py_NewReference|python3.10', '__libc_read|libpthread.so.0', 'ImagingUnpackRGB|_imaging.cpython-310-x86_64-linux-gnu.so', 'jpeg_idct_16x16|libjpeg.so.9', 'decompress_onepass|libjpeg.so.9', 'jpeg_read_scanlines|libjpeg.so.9', 'jpeg_idct_islow|libjpeg.so.9', 'jpeg_fill_bit_buffer|libjpeg.so.9'}\n",
      "Common functions for RandomResizedCrop are {'ImagingResampleVertical_8bpc|_imaging.cpython-310-x86_64-linux-gnu.so', '__memmove_avx_unaligned_erms|libc.so.6', '_int_free|libc.so.6', 'ImagingCrop|_imaging.cpython-310-x86_64-linux-gnu.so', 'func@0x1e7f80|libtorch_python.so', 'ImagingResampleHorizontal_8bpc|_imaging.cpython-310-x86_64-linux-gnu.so', '_PyDict_LoadGlobal|python3.10'}\n",
      "Common functions for Collation are {'GOMP_parallel|libgomp.so.1', '__kmp_join_barrier|libgomp.so.1', '__GI___pthread_getspecific|libpthread.so.0', 'OS_BARESYSCALL_DoCallAsmIntel64Linux|libc-dynamic.so', '_int_free|libc.so.6', '[Outside any known module]|[Unknown]', '__tls_get_addr|ld-linux-x86-64.so.2', 'at::native::structured_cat_out_cpu::impl|libtorch_cpu.so', '__kmp_fork_barrier|libgomp.so.1', '[OpenMP dispatcher]|libgomp.so.1', 'pymalloc_alloc|python3.10', 'c10::function_ref<void (char**, long const*, long, long)>::callback_fn<at::native::AVX2::VectorizedLoop2d<at::native::AVX2::direct_copy_kernel(at::TensorIteratorBase&)::{lambda()#3}::operator()(void) const::{lambda()#7}::operator()(void) const::{lambda(float)#1}, at::native::AVX2::direct_copy_kernel(at::TensorIteratorBase&)::{lambda()#3}::operator()(void) const::{lambda()#7}::operator()(void) const::{lambda(at::vec::AVX2::Vectorized<float>)#2}>>|libtorch_cpu.so', '__kmp_GOMP_microtask_wrapper|libgomp.so.1', 'c10::TensorImpl::data|libtorch_cpu.so', '__kmp_finish_implicit_task|libgomp.so.1'}\n",
      "Common functions for ToTensor are {'at::native::AVX2::vectorized_loop<at::native::(anonymous namespace)::div_true_kernel(at::TensorIteratorBase&)::{lambda()#1}::operator()(void) const::{lambda()#2}::operator()(void) const::{lambda(floatfloat)#1}&, at::native::(anonymous namespace)::div_true_kernel(at::TensorIteratorBase&)::{lambda()#1}::operator()(void) const::{lambda()#2}::operator()(void) const::{lambda(at::vec::AVX2::Vectorized<float>at::vec::AVX2::Vectorized<float>)#2}&>.isra.0|libtorch_cpu.so', '__memmove_avx_unaligned_erms|libc.so.6', '_int_free|libc.so.6', '__GI___libc_malloc|libc.so.6', 'PyObject_GetAttr|python3.10', 'vgetargs1_impl|python3.10', 'tupledealloc|python3.10', 'c10::function_ref<void (char**, long const*, long, long)>::callback_fn<at::TensorIteratorBase::loop_2d_from_1d<at::native::AVX2::copy_kernel(at::TensorIterator&, bool)::{lambda()#1}::operator()(void) const::{lambda()#7}::operator()(void) const::{lambda()#1}::operator()(void) const::{lambda()#1}::operator()(void) const::{lambda(char**long const*, long)#1}>(, signed char, at::native::AVX2::copy_kernel(at::TensorIterator&, bool)::{lambda()#1}::operator()(void) const::{lambda()#7}::operator()(void) const::{lambda()#1}::operator()(void) const::{lambda()#1}::operator()(void) const::{lambda(char**long const*, long)#1} const&)::{lambda(char**long const*, long, long)#1}>|libtorch_cpu.so', 'tuple_alloc|python3.10', '__GI_|libc.so.6', '_PyEval_EvalFrameDefault|python3.10', 'object_dealloc|python3.10', 'arena_map_get|python3.10', 'gomp_simple_barrier_wait|libgomp.so.1', '_Py_NewReference|python3.10', 'stringlib_bytes_join|python3.10', '_Py_INCREF|python3.10', '_PyBytes_Resize|python3.10', 'ImagingPackRGB|_imaging.cpython-310-x86_64-linux-gnu.so', 'gomp_team_barrier_wait_end|libgomp.so.1', 'c10::function_ref<void (char**, long const*, long, long)>::callback_fn<at::native::AVX2::VectorizedLoop2d<at::native::AVX2::direct_copy_kernel(at::TensorIteratorBase&)::{lambda()#3}::operator()(void) const::{lambda()#1}::operator()(void) const::{lambda(unsigned char)#1}, at::native::AVX2::direct_copy_kernel(at::TensorIteratorBase&)::{lambda()#3}::operator()(void) const::{lambda()#1}::operator()(void) const::{lambda(at::vec::AVX2::Vectorized<unsigned char>)#2}>>|libtorch_cpu.so', 'gomp_team_end|libgomp.so.1', '_Py_DECREF|python3.10', 'munmap|libc.so.6', 'do_mkvalue|python3.10'}\n",
      "Common functions for Normalize are {'at::native::AVX2::vectorized_loop<at::native::(anonymous namespace)::div_true_kernel(at::TensorIteratorBase&)::{lambda()#1}::operator()(void) const::{lambda()#2}::operator()(void) const::{lambda(floatfloat)#1}&, at::native::(anonymous namespace)::div_true_kernel(at::TensorIteratorBase&)::{lambda()#1}::operator()(void) const::{lambda()#2}::operator()(void) const::{lambda(at::vec::AVX2::Vectorized<float>at::vec::AVX2::Vectorized<float>)#2}&>.isra.0|libtorch_cpu.so', 'c10::function_ref<void (char**, long const*, long, long)>::callback_fn<at::native::AVX2::VectorizedLoop2d<at::native::(anonymous namespace)::add_kernel(at::TensorIteratorBase&, c10::Scalar const&)::{lambda()#1}::operator()(void) const::{lambda()#7}::operator()(void) const::{lambda(floatfloat)#1}, at::native::(anonymous namespace)::add_kernel(at::TensorIteratorBase&, c10::Scalar const&)::{lambda()#1}::operator()(void) const::{lambda()#7}::operator()(void) const::{lambda(at::vec::AVX2::Vectorized<float>at::vec::AVX2::Vectorized<float>)#2}>>|libtorch_cpu.so', 'gomp_team_end|libgomp.so.1', 'gomp_simple_barrier_wait|libgomp.so.1', 'munmap|libc.so.6', 'c10::function_ref<void (char**, long const*, long, long)>::callback_fn<at::native::AVX2::VectorizedLoop2d<at::native::AVX2::direct_copy_kernel(at::TensorIteratorBase&)::{lambda()#3}::operator()(void) const::{lambda()#7}::operator()(void) const::{lambda(float)#1}, at::native::AVX2::direct_copy_kernel(at::TensorIteratorBase&)::{lambda()#3}::operator()(void) const::{lambda()#7}::operator()(void) const::{lambda(at::vec::AVX2::Vectorized<float>)#2}>>|libtorch_cpu.so', 'gomp_team_barrier_wait_end|libgomp.so.1'}\n"
     ]
    }
   ],
   "source": [
    "# need to clean up this block of code\n",
    "csv_dir=\"logs\"\n",
    "program_file_dir=\".\"\n",
    "# get all program files that end with .py\n",
    "program_files = [f for f in os.listdir(program_file_dir) if f.endswith(\".py\")]\n",
    "program = program_files[0].split(\".\")[0]\n",
    "same_program_csv_dir=os.path.join(csv_dir,program)\n",
    "# samples = total number of runs for each program\n",
    "samples = len(os.listdir(same_program_csv_dir))\n",
    "op_to_func = {}\n",
    "\n",
    "# loop through csv files in csv_dir\n",
    "for program_ in program_files:\n",
    "    program = program_.split(\".\")[0]\n",
    "    same_program_csv_dir=os.path.join(csv_dir,program)\n",
    "    common_funcs_per_op = set()\n",
    "    c_func_to_count = {}\n",
    "    for csv_file in os.listdir(same_program_csv_dir):\n",
    "        df = pd.read_csv(os.path.join(same_program_csv_dir,csv_file))\n",
    "        # merge two columns with \"|\" as separator\n",
    "        df[\"full_func\"] = df['Function'].astype(str) + \"|\" + df['Module'].astype(str)\n",
    "        # loop through each function in the column 'full_func'\n",
    "        for func in df[\"full_func\"].values:\n",
    "            # if function is not in the dictionary, add it\n",
    "            if func not in c_func_to_count:\n",
    "                c_func_to_count[func] = 1\n",
    "            # else increment the count\n",
    "            else:\n",
    "                c_func_to_count[func] += 1\n",
    "\n",
    "    for func in c_func_to_count:\n",
    "        # i.e. present in more than half of the samples\n",
    "        # if c_func_to_count[func] > samples//2:\n",
    "        common_funcs_per_op.add(func)        \n",
    "\n",
    "    op_to_func[program] = list(common_funcs_per_op)\n",
    "    print(f\"Common functions for {program} are {common_funcs_per_op}\")"
   ]
  },
  {
   "cell_type": "code",
   "execution_count": 11,
   "metadata": {},
   "outputs": [
    {
     "data": {
      "text/plain": [
       "{'RandomHorizontalFlip': ['__libc_calloc|libc.so.6',\n",
       "  '__GI___pthread_mutex_lock|libpthread.so.0',\n",
       "  '_PyEval_EvalFrameDefault|python3.10',\n",
       "  'ImagingFlipLeftRight|_imaging.cpython-310-x86_64-linux-gnu.so',\n",
       "  '__GI___libc_malloc|libc.so.6',\n",
       "  'c10::impl::OperatorEntry::lookup|libtorch_cpu.so'],\n",
       " 'Loader': ['__libc_calloc|libc.so.6',\n",
       "  'read|python3.10',\n",
       "  '__memmove_avx_unaligned_erms|libc.so.6',\n",
       "  '_int_free|libc.so.6',\n",
       "  '__GI___libc_malloc|libc.so.6',\n",
       "  'PyEval_RestoreThread|python3.10',\n",
       "  'vgetargs1_impl|python3.10',\n",
       "  '__memset_avx2_unaligned_erms|libc.so.6',\n",
       "  'ImagingJpegDecode|_imaging.cpython-310-x86_64-linux-gnu.so',\n",
       "  'PyVectorcall_Function|python3.10',\n",
       "  'decode_mcu|libjpeg.so.9',\n",
       "  'PyThread_get_thread_ident|python3.10',\n",
       "  'ycc_rgb_convert|libjpeg.so.9',\n",
       "  '_Py_NewReference|python3.10',\n",
       "  '__libc_read|libpthread.so.0',\n",
       "  'ImagingUnpackRGB|_imaging.cpython-310-x86_64-linux-gnu.so',\n",
       "  'jpeg_idct_16x16|libjpeg.so.9',\n",
       "  'decompress_onepass|libjpeg.so.9',\n",
       "  'jpeg_read_scanlines|libjpeg.so.9',\n",
       "  'jpeg_idct_islow|libjpeg.so.9',\n",
       "  'jpeg_fill_bit_buffer|libjpeg.so.9'],\n",
       " 'RandomResizedCrop': ['ImagingResampleVertical_8bpc|_imaging.cpython-310-x86_64-linux-gnu.so',\n",
       "  '__memmove_avx_unaligned_erms|libc.so.6',\n",
       "  '_int_free|libc.so.6',\n",
       "  'ImagingCrop|_imaging.cpython-310-x86_64-linux-gnu.so',\n",
       "  'func@0x1e7f80|libtorch_python.so',\n",
       "  'ImagingResampleHorizontal_8bpc|_imaging.cpython-310-x86_64-linux-gnu.so',\n",
       "  '_PyDict_LoadGlobal|python3.10'],\n",
       " 'Collation': ['GOMP_parallel|libgomp.so.1',\n",
       "  '__kmp_join_barrier|libgomp.so.1',\n",
       "  '__GI___pthread_getspecific|libpthread.so.0',\n",
       "  'OS_BARESYSCALL_DoCallAsmIntel64Linux|libc-dynamic.so',\n",
       "  '_int_free|libc.so.6',\n",
       "  '[Outside any known module]|[Unknown]',\n",
       "  '__tls_get_addr|ld-linux-x86-64.so.2',\n",
       "  'at::native::structured_cat_out_cpu::impl|libtorch_cpu.so',\n",
       "  '__kmp_fork_barrier|libgomp.so.1',\n",
       "  '[OpenMP dispatcher]|libgomp.so.1',\n",
       "  'pymalloc_alloc|python3.10',\n",
       "  'c10::function_ref<void (char**, long const*, long, long)>::callback_fn<at::native::AVX2::VectorizedLoop2d<at::native::AVX2::direct_copy_kernel(at::TensorIteratorBase&)::{lambda()#3}::operator()(void) const::{lambda()#7}::operator()(void) const::{lambda(float)#1}, at::native::AVX2::direct_copy_kernel(at::TensorIteratorBase&)::{lambda()#3}::operator()(void) const::{lambda()#7}::operator()(void) const::{lambda(at::vec::AVX2::Vectorized<float>)#2}>>|libtorch_cpu.so',\n",
       "  '__kmp_GOMP_microtask_wrapper|libgomp.so.1',\n",
       "  'c10::TensorImpl::data|libtorch_cpu.so',\n",
       "  '__kmp_finish_implicit_task|libgomp.so.1'],\n",
       " 'ToTensor': ['at::native::AVX2::vectorized_loop<at::native::(anonymous namespace)::div_true_kernel(at::TensorIteratorBase&)::{lambda()#1}::operator()(void) const::{lambda()#2}::operator()(void) const::{lambda(floatfloat)#1}&, at::native::(anonymous namespace)::div_true_kernel(at::TensorIteratorBase&)::{lambda()#1}::operator()(void) const::{lambda()#2}::operator()(void) const::{lambda(at::vec::AVX2::Vectorized<float>at::vec::AVX2::Vectorized<float>)#2}&>.isra.0|libtorch_cpu.so',\n",
       "  '__memmove_avx_unaligned_erms|libc.so.6',\n",
       "  '_int_free|libc.so.6',\n",
       "  '__GI___libc_malloc|libc.so.6',\n",
       "  'PyObject_GetAttr|python3.10',\n",
       "  'vgetargs1_impl|python3.10',\n",
       "  'tupledealloc|python3.10',\n",
       "  'c10::function_ref<void (char**, long const*, long, long)>::callback_fn<at::TensorIteratorBase::loop_2d_from_1d<at::native::AVX2::copy_kernel(at::TensorIterator&, bool)::{lambda()#1}::operator()(void) const::{lambda()#7}::operator()(void) const::{lambda()#1}::operator()(void) const::{lambda()#1}::operator()(void) const::{lambda(char**long const*, long)#1}>(, signed char, at::native::AVX2::copy_kernel(at::TensorIterator&, bool)::{lambda()#1}::operator()(void) const::{lambda()#7}::operator()(void) const::{lambda()#1}::operator()(void) const::{lambda()#1}::operator()(void) const::{lambda(char**long const*, long)#1} const&)::{lambda(char**long const*, long, long)#1}>|libtorch_cpu.so',\n",
       "  'tuple_alloc|python3.10',\n",
       "  '__GI_|libc.so.6',\n",
       "  '_PyEval_EvalFrameDefault|python3.10',\n",
       "  'object_dealloc|python3.10',\n",
       "  'arena_map_get|python3.10',\n",
       "  'gomp_simple_barrier_wait|libgomp.so.1',\n",
       "  '_Py_NewReference|python3.10',\n",
       "  'stringlib_bytes_join|python3.10',\n",
       "  '_Py_INCREF|python3.10',\n",
       "  '_PyBytes_Resize|python3.10',\n",
       "  'ImagingPackRGB|_imaging.cpython-310-x86_64-linux-gnu.so',\n",
       "  'gomp_team_barrier_wait_end|libgomp.so.1',\n",
       "  'c10::function_ref<void (char**, long const*, long, long)>::callback_fn<at::native::AVX2::VectorizedLoop2d<at::native::AVX2::direct_copy_kernel(at::TensorIteratorBase&)::{lambda()#3}::operator()(void) const::{lambda()#1}::operator()(void) const::{lambda(unsigned char)#1}, at::native::AVX2::direct_copy_kernel(at::TensorIteratorBase&)::{lambda()#3}::operator()(void) const::{lambda()#1}::operator()(void) const::{lambda(at::vec::AVX2::Vectorized<unsigned char>)#2}>>|libtorch_cpu.so',\n",
       "  'gomp_team_end|libgomp.so.1',\n",
       "  '_Py_DECREF|python3.10',\n",
       "  'munmap|libc.so.6',\n",
       "  'do_mkvalue|python3.10'],\n",
       " 'Normalize': ['at::native::AVX2::vectorized_loop<at::native::(anonymous namespace)::div_true_kernel(at::TensorIteratorBase&)::{lambda()#1}::operator()(void) const::{lambda()#2}::operator()(void) const::{lambda(floatfloat)#1}&, at::native::(anonymous namespace)::div_true_kernel(at::TensorIteratorBase&)::{lambda()#1}::operator()(void) const::{lambda()#2}::operator()(void) const::{lambda(at::vec::AVX2::Vectorized<float>at::vec::AVX2::Vectorized<float>)#2}&>.isra.0|libtorch_cpu.so',\n",
       "  'c10::function_ref<void (char**, long const*, long, long)>::callback_fn<at::native::AVX2::VectorizedLoop2d<at::native::(anonymous namespace)::add_kernel(at::TensorIteratorBase&, c10::Scalar const&)::{lambda()#1}::operator()(void) const::{lambda()#7}::operator()(void) const::{lambda(floatfloat)#1}, at::native::(anonymous namespace)::add_kernel(at::TensorIteratorBase&, c10::Scalar const&)::{lambda()#1}::operator()(void) const::{lambda()#7}::operator()(void) const::{lambda(at::vec::AVX2::Vectorized<float>at::vec::AVX2::Vectorized<float>)#2}>>|libtorch_cpu.so',\n",
       "  'gomp_team_end|libgomp.so.1',\n",
       "  'gomp_simple_barrier_wait|libgomp.so.1',\n",
       "  'munmap|libc.so.6',\n",
       "  'c10::function_ref<void (char**, long const*, long, long)>::callback_fn<at::native::AVX2::VectorizedLoop2d<at::native::AVX2::direct_copy_kernel(at::TensorIteratorBase&)::{lambda()#3}::operator()(void) const::{lambda()#7}::operator()(void) const::{lambda(float)#1}, at::native::AVX2::direct_copy_kernel(at::TensorIteratorBase&)::{lambda()#3}::operator()(void) const::{lambda()#7}::operator()(void) const::{lambda(at::vec::AVX2::Vectorized<float>)#2}>>|libtorch_cpu.so',\n",
       "  'gomp_team_barrier_wait_end|libgomp.so.1']}"
      ]
     },
     "execution_count": 11,
     "metadata": {},
     "output_type": "execute_result"
    }
   ],
   "source": [
    "op_to_func"
   ]
  },
  {
   "cell_type": "code",
   "execution_count": 12,
   "metadata": {},
   "outputs": [],
   "source": [
    "\n",
    "def find_common_cpp_func(op_to_func):\n",
    "    # find functions found in other ops\n",
    "    common_funcs_to_op = {}\n",
    "    # loop through all programs\n",
    "    for python_func in op_to_func.keys():\n",
    "        # loop through all functions in the program\n",
    "        for func in op_to_func[python_func]:\n",
    "            # loop through all other programs\n",
    "            for other_python_func in op_to_func.keys():\n",
    "                # skip if the program is the same as the current program\n",
    "                if other_python_func == python_func:\n",
    "                    continue\n",
    "                # if the function is found in other programs\n",
    "                if func in op_to_func[other_python_func]:\n",
    "                    # add the function to the set of common functions\n",
    "                    if func not in common_funcs_to_op:\n",
    "                        common_funcs_to_op[func] = [python_func,other_python_func]\n",
    "                    elif python_func not in common_funcs_to_op[func] or other_python_func not in common_funcs_to_op[func]:\n",
    "                        common_funcs_to_op[func].append(other_python_func)\n",
    "    return common_funcs_to_op"
   ]
  },
  {
   "cell_type": "code",
   "execution_count": 13,
   "metadata": {},
   "outputs": [
    {
     "name": "stdout",
     "output_type": "stream",
     "text": [
      "C/C++ functions that can be found in multiple python operations:\n",
      "\t__libc_calloc|libc.so.6\n",
      "\t\t->\t['RandomHorizontalFlip', 'Loader']\n",
      "\t_PyEval_EvalFrameDefault|python3.10\n",
      "\t\t->\t['RandomHorizontalFlip', 'ToTensor']\n",
      "\t__GI___libc_malloc|libc.so.6\n",
      "\t\t->\t['RandomHorizontalFlip', 'Loader', 'ToTensor']\n",
      "\t__memmove_avx_unaligned_erms|libc.so.6\n",
      "\t\t->\t['Loader', 'RandomResizedCrop', 'ToTensor']\n",
      "\t_int_free|libc.so.6\n",
      "\t\t->\t['Loader', 'RandomResizedCrop', 'Collation', 'ToTensor']\n",
      "\tvgetargs1_impl|python3.10\n",
      "\t\t->\t['Loader', 'ToTensor']\n",
      "\t_Py_NewReference|python3.10\n",
      "\t\t->\t['Loader', 'ToTensor']\n",
      "\tc10::function_ref<void (char**, long const*, long, long)>::callback_fn<at::native::AVX2::VectorizedLoop2d<at::native::AVX2::direct_copy_kernel(at::TensorIteratorBase&)::{lambda()#3}::operator()(void) const::{lambda()#7}::operator()(void) const::{lambda(float)#1}, at::native::AVX2::direct_copy_kernel(at::TensorIteratorBase&)::{lambda()#3}::operator()(void) const::{lambda()#7}::operator()(void) const::{lambda(at::vec::AVX2::Vectorized<float>)#2}>>|libtorch_cpu.so\n",
      "\t\t->\t['Collation', 'Normalize']\n",
      "\tat::native::AVX2::vectorized_loop<at::native::(anonymous namespace)::div_true_kernel(at::TensorIteratorBase&)::{lambda()#1}::operator()(void) const::{lambda()#2}::operator()(void) const::{lambda(floatfloat)#1}&, at::native::(anonymous namespace)::div_true_kernel(at::TensorIteratorBase&)::{lambda()#1}::operator()(void) const::{lambda()#2}::operator()(void) const::{lambda(at::vec::AVX2::Vectorized<float>at::vec::AVX2::Vectorized<float>)#2}&>.isra.0|libtorch_cpu.so\n",
      "\t\t->\t['ToTensor', 'Normalize']\n",
      "\tgomp_simple_barrier_wait|libgomp.so.1\n",
      "\t\t->\t['ToTensor', 'Normalize']\n",
      "\tgomp_team_barrier_wait_end|libgomp.so.1\n",
      "\t\t->\t['ToTensor', 'Normalize']\n",
      "\tgomp_team_end|libgomp.so.1\n",
      "\t\t->\t['ToTensor', 'Normalize']\n",
      "\tmunmap|libc.so.6\n",
      "\t\t->\t['ToTensor', 'Normalize']\n"
     ]
    }
   ],
   "source": [
    "common_funcs_to_op = find_common_cpp_func(op_to_func)\n",
    "print(\"C/C++ functions that can be found in multiple python operations:\")\n",
    "for func in common_funcs_to_op.keys():\n",
    "    print(f\"\\t{func}\\n\\t\\t->\\t{common_funcs_to_op[func]}\")"
   ]
  },
  {
   "cell_type": "code",
   "execution_count": 14,
   "metadata": {},
   "outputs": [],
   "source": [
    "json_string = {'op_to_func':op_to_func,'common_funcs_to_op':common_funcs_to_op}\n",
    "with open('mapping_funcs.json', 'w') as outfile:\n",
    "    json.dump(json_string, outfile,indent=4)"
   ]
  }
 ],
 "metadata": {
  "kernelspec": {
   "display_name": "torch2",
   "language": "python",
   "name": "python3"
  },
  "language_info": {
   "codemirror_mode": {
    "name": "ipython",
    "version": 3
   },
   "file_extension": ".py",
   "mimetype": "text/x-python",
   "name": "python",
   "nbconvert_exporter": "python",
   "pygments_lexer": "ipython3",
   "version": "3.10.14"
  },
  "orig_nbformat": 4
 },
 "nbformat": 4,
 "nbformat_minor": 2
}

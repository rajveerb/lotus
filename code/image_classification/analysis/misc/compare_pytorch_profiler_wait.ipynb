{
 "cells": [
  {
   "cell_type": "code",
   "execution_count": 38,
   "metadata": {},
   "outputs": [],
   "source": [
    "import json, os, pandas as pd"
   ]
  },
  {
   "cell_type": "code",
   "execution_count": 39,
   "metadata": {},
   "outputs": [],
   "source": [
    "profile_log = '/mydata/profiler_benchmark/pytorch_profiler_imagenet_subset_b512_gpu1/c4130-node.v100ubuntu20.prismgt-pg0.wisc.cloudlab.us_174279.1705996151567.pt.trace.json'\n",
    "# Below event's duration si the wait time\n",
    "marker_event_name = 'enumerate(DataLoader)#_MultiProcessingDataLoaderIter.__next__'\n",
    "custom_log_dir = '/mydata/profiler_benchmark/custom_log_profiles_imagenet_subset_b512_gpu1'"
   ]
  },
  {
   "cell_type": "code",
   "execution_count": 40,
   "metadata": {},
   "outputs": [],
   "source": [
    "# open as json\n",
    "data = json.load(open(profile_log))"
   ]
  },
  {
   "cell_type": "code",
   "execution_count": 41,
   "metadata": {},
   "outputs": [
    {
     "name": "stdout",
     "output_type": "stream",
     "text": [
      "count: 51\n",
      "pytorch_profiler_wait_sum: 313031892 us\n"
     ]
    }
   ],
   "source": [
    "pytorch_profiler_wait_sum = 0\n",
    "count = 0\n",
    "for event in data['traceEvents']:\n",
    "    if event['name'] == marker_event_name:\n",
    "        count +=1\n",
    "        pytorch_profiler_wait_sum += event['dur']\n",
    "print(f'count: {count}')\n",
    "print(f'pytorch_profiler_wait_sum: {pytorch_profiler_wait_sum} us')"
   ]
  },
  {
   "cell_type": "code",
   "execution_count": 42,
   "metadata": {},
   "outputs": [
    {
     "name": "stdout",
     "output_type": "stream",
     "text": [
      "/mydata/profiler_benchmark/custom_log_profiles_imagenet_subset_b512_gpu1\n",
      "custom_log_worker_pid_1487029\n",
      "custom_log_main_pid_1486988\n",
      "len(df): 51\n",
      "custom_log_wait_sum: 167712150.62 us\n"
     ]
    }
   ],
   "source": [
    "custom_log_wait_sum = 0\n",
    "# walk through all files in the custom log dir\n",
    "for root, dirs, files in os.walk(custom_log_dir):\n",
    "    print(root)\n",
    "    for file in files:\n",
    "        print(file)\n",
    "        # if file does not contain 'worker_pid' skip\n",
    "        if 'worker_pid' in file:\n",
    "            continue\n",
    "        # read file as pandas csv\n",
    "        df = pd.read_csv(os.path.join(root, file))\n",
    "        # add headers as 'name', 'start', 'dur'\n",
    "        df.columns = ['name', 'start', 'dur']\n",
    "\n",
    "        # if name contains 'SBatchWait' then keep else remove\n",
    "        df = df[df['name'].str.contains('SBatchWait')]\n",
    "\n",
    "        # get duration sum\n",
    "        custom_log_wait_sum = df['dur'].sum()/1000 # convert to us\n",
    "\n",
    "        # print length of df\n",
    "        print(f'len(df): {len(df)}')\n",
    "\n",
    "print(f'custom_log_wait_sum: {custom_log_wait_sum} us')\n"
   ]
  },
  {
   "cell_type": "code",
   "execution_count": 47,
   "metadata": {},
   "outputs": [
    {
     "name": "stdout",
     "output_type": "stream",
     "text": [
      "diff: 1.87x\n"
     ]
    }
   ],
   "source": [
    "# get difference %\n",
    "print(f'diff: {pytorch_profiler_wait_sum/custom_log_wait_sum:.2f}x')"
   ]
  },
  {
   "cell_type": "code",
   "execution_count": 50,
   "metadata": {},
   "outputs": [
    {
     "data": {
      "text/plain": [
       "167.71215062"
      ]
     },
     "execution_count": 50,
     "metadata": {},
     "output_type": "execute_result"
    }
   ],
   "source": [
    "custom_log_wait_sum/1000/1000"
   ]
  }
 ],
 "metadata": {
  "kernelspec": {
   "display_name": "torch2",
   "language": "python",
   "name": "python3"
  },
  "language_info": {
   "codemirror_mode": {
    "name": "ipython",
    "version": 3
   },
   "file_extension": ".py",
   "mimetype": "text/x-python",
   "name": "python",
   "nbconvert_exporter": "python",
   "pygments_lexer": "ipython3",
   "version": "3.10.11"
  },
  "orig_nbformat": 4
 },
 "nbformat": 4,
 "nbformat_minor": 2
}

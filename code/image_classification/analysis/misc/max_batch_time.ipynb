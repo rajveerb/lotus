{
 "cells": [
  {
   "cell_type": "code",
   "execution_count": 31,
   "metadata": {},
   "outputs": [],
   "source": [
    "import os,natsort\n",
    "# plot the time for each batch\n",
    "import matplotlib.pyplot as plt\n",
    "import pandas as pd\n"
   ]
  },
  {
   "cell_type": "code",
   "execution_count": 32,
   "metadata": {},
   "outputs": [],
   "source": [
    "dir = '/mydata/per_batch_training_time_on_gpu/'"
   ]
  },
  {
   "cell_type": "code",
   "execution_count": 33,
   "metadata": {},
   "outputs": [
    {
     "name": "stdout",
     "output_type": "stream",
     "text": [
      "b128_gpu1.log 108.50713348388672 ms\n",
      "b128_gpu2.log 68.83430480957031 ms\n",
      "b128_gpu3.log 57.34195327758789 ms\n",
      "b128_gpu4.log 46.38105773925781 ms\n",
      "b256_gpu1.log 208.65536499023438 ms\n",
      "b256_gpu2.log 124.83071899414062 ms\n",
      "b256_gpu3.log 100.20044708251953 ms\n",
      "b256_gpu4.log 88.80332946777344 ms\n",
      "b512_gpu1.log 416.2088928222656 ms\n",
      "b512_gpu2.log 236.2388458251953 ms\n",
      "b512_gpu3.log 189.86598205566406 ms\n",
      "b512_gpu4.log 166.7071990966797 ms\n",
      "b1024_gpu2.log 470.27508544921875 ms\n",
      "b1024_gpu3.log 371.7652587890625 ms\n",
      "b1024_gpu4.log 325.5941162109375 ms\n"
     ]
    }
   ],
   "source": [
    "#  get all the files in the directory\n",
    "files = os.listdir(dir)\n",
    "\n",
    "#  sort the files\n",
    "files = natsort.natsorted(files)\n",
    "\n",
    "max_batch_time = 0\n",
    "max_batch_file = ''\n",
    "config_to_time = {}\n",
    "for file in files:\n",
    "    if not file.endswith('.log'):\n",
    "        print('The file ' + file + ' is not a log file.')\n",
    "        exit(1)\n",
    "    with open(dir + file, 'r') as f:\n",
    "        lines = f.readlines()\n",
    "        for line in lines:\n",
    "            time = line.split(' ')[0]\n",
    "            if float(time) > max_batch_time:\n",
    "                max_batch_time = float(time)\n",
    "                max_batch_file = file\n",
    "            print(file,line)\n",
    "            config = file.split('.')[0]\n",
    "            config_to_time[config] = time\n"
   ]
  },
  {
   "cell_type": "code",
   "execution_count": 34,
   "metadata": {},
   "outputs": [
    {
     "name": "stdout",
     "output_type": "stream",
     "text": [
      "The max batch time is 470.27508544921875ms in the file b1024_gpu2.log\n"
     ]
    }
   ],
   "source": [
    "# print max batch time and the file\n",
    "print('The max batch time is ' + str(max_batch_time) + 'ms in the file ' + max_batch_file)"
   ]
  },
  {
   "cell_type": "code",
   "execution_count": 35,
   "metadata": {},
   "outputs": [
    {
     "data": {
      "text/plain": [
       "{'b128_gpu1': '108.50713348388672',\n",
       " 'b128_gpu2': '68.83430480957031',\n",
       " 'b128_gpu3': '57.34195327758789',\n",
       " 'b128_gpu4': '46.38105773925781',\n",
       " 'b256_gpu1': '208.65536499023438',\n",
       " 'b256_gpu2': '124.83071899414062',\n",
       " 'b256_gpu3': '100.20044708251953',\n",
       " 'b256_gpu4': '88.80332946777344',\n",
       " 'b512_gpu1': '416.2088928222656',\n",
       " 'b512_gpu2': '236.2388458251953',\n",
       " 'b512_gpu3': '189.86598205566406',\n",
       " 'b512_gpu4': '166.7071990966797',\n",
       " 'b1024_gpu2': '470.27508544921875',\n",
       " 'b1024_gpu3': '371.7652587890625',\n",
       " 'b1024_gpu4': '325.5941162109375'}"
      ]
     },
     "execution_count": 35,
     "metadata": {},
     "output_type": "execute_result"
    }
   ],
   "source": [
    "config_to_time"
   ]
  },
  {
   "cell_type": "code",
   "execution_count": 36,
   "metadata": {},
   "outputs": [
    {
     "data": {
      "text/plain": [
       "Text(1, 480, 'Moving to device + forward and backward pass <= 500 ms')"
      ]
     },
     "execution_count": 36,
     "metadata": {},
     "output_type": "execute_result"
    },
    {
     "data": {
      "image/png": "[encoded data removed]",
      "text/plain": [
       "<Figure size 640x480 with 1 Axes>"
      ]
     },
     "metadata": {},
     "output_type": "display_data"
    }
   ],
   "source": [
    "df = pd.DataFrame(list(config_to_time.items()), columns=['config', 'time'])\n",
    "\n",
    "df['time'] = df['time'].astype(float)\n",
    "df.plot(kind='bar',x='config',y='time')\n",
    "# no legend\n",
    "plt.legend().remove()\n",
    "# y axis label\n",
    "plt.ylabel('elapsed time (ms)')\n",
    "# add horizontal line at 500 ms with large red dashed line\n",
    "plt.axhline(y=500, color='r', linestyle='--', linewidth=2)\n",
    "# annotate the line\n",
    "plt.text(1, 480, 'Moving to device + forward and backward pass <= 500 ms', color = 'red')\n",
    "\n",
    "\n"
   ]
  }
 ],
 "metadata": {
  "kernelspec": {
   "display_name": "torch2",
   "language": "python",
   "name": "python3"
  },
  "language_info": {
   "codemirror_mode": {
    "name": "ipython",
    "version": 3
   },
   "file_extension": ".py",
   "mimetype": "text/x-python",
   "name": "python",
   "nbconvert_exporter": "python",
   "pygments_lexer": "ipython3",
   "version": "3.10.11"
  },
  "orig_nbformat": 4
 },
 "nbformat": 4,
 "nbformat_minor": 2
}

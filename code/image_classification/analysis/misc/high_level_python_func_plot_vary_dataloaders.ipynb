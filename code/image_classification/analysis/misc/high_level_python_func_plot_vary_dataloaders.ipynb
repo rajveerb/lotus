{
 "cells": [
  {
   "cell_type": "code",
   "execution_count": 1,
   "metadata": {},
   "outputs": [],
   "source": [
    "# %%\n",
    "import os,argparse,natsort\n",
    "import pandas as pd\n",
    "import matplotlib.pyplot as plt\n",
    "# display more columns\n",
    "pd.set_option('display.max_columns', 500)\n",
    "pd.set_option('display.width', 1000)\n"
   ]
  },
  {
   "cell_type": "code",
   "execution_count": 2,
   "metadata": {},
   "outputs": [],
   "source": [
    "data_dir = '/mydata/pytorch_custom_log_and_vtune_one_epoch_imagenet_dataset'"
   ]
  },
  {
   "cell_type": "code",
   "execution_count": 3,
   "metadata": {},
   "outputs": [],
   "source": [
    "\n",
    "def generate_summary_stats_per_op(data_dir):\n",
    "\n",
    "    root_to_files = {}\n",
    "    for root, dirs, files in os.walk(data_dir):\n",
    "        root_to_files[root] = files\n",
    "    roots = sorted(root_to_files, key=lambda x: natsort.natsort_key(x.lower()))\n",
    "\n",
    "    config_to_stats = {}\n",
    "\n",
    "    # recursively find all the log files\n",
    "    for root in roots:\n",
    "        if 'e2e' in root:\n",
    "            continue\n",
    "        files = root_to_files[root]\n",
    "        print(root)\n",
    "\n",
    "        # root is in the format of /mydata/pytorch_custom_log_one_epoch_imagenet_dataset/b1024_gpu4\n",
    "        # get me the batch size and gpu count as 'b1024_gpu4\n",
    "        root = root.rstrip('/')\n",
    "        config = root.split('/')[-1]\n",
    "        print(config)\n",
    "        dataloader_config = config.split('dataloader')[-1]\n",
    "\n",
    "\n",
    "        combine_df = pd.DataFrame()\n",
    "        for file in files:\n",
    "            if 'worker_pid' in file:\n",
    "                fp = os.path.join(root, file)\n",
    "                #  read the log file as csv with no header\n",
    "                df = pd.read_csv(fp, header=None)\n",
    "                df.columns = [\"name\", \"start\", \"dur\"]\n",
    "\n",
    "                # drop columns with name \"start\"\n",
    "                df = df.drop(columns=[\"start\"])\n",
    "\n",
    "                # divide \"dur\" column by 1000,000 to get time in ms\n",
    "                df[\"dur\"] = df[\"dur\"] / 1000000\n",
    "                # discard the rows with name starting with SBatch\n",
    "                df = df[~df[\"name\"].str.startswith(\"SBatch\")]\n",
    "\n",
    "                # concatenate all the dataframes\n",
    "                combine_df = pd.concat([combine_df, df])\n",
    "\n",
    "        # check if the dataframe is empty\n",
    "        if combine_df.empty:\n",
    "            continue\n",
    "\n",
    "        stats_df = combine_df.groupby(\"name\").agg([\"sum\"])\n",
    "\n",
    "        # make the column names flat\n",
    "        stats_df.columns = stats_df.columns.get_level_values(0)\n",
    "        config_to_stats[dataloader_config] = stats_df\n",
    "    \n",
    "    return config_to_stats\n",
    "\n",
    "        "
   ]
  },
  {
   "cell_type": "code",
   "execution_count": 4,
   "metadata": {},
   "outputs": [
    {
     "name": "stdout",
     "output_type": "stream",
     "text": [
      "All numbers are in ms\n",
      "/mydata/pytorch_custom_log_and_vtune_one_epoch_imagenet_dataset\n",
      "pytorch_custom_log_and_vtune_one_epoch_imagenet_dataset\n",
      "/mydata/pytorch_custom_log_and_vtune_one_epoch_imagenet_dataset/b1024_gpu4_dataloader8\n",
      "b1024_gpu4_dataloader8\n",
      "/mydata/pytorch_custom_log_and_vtune_one_epoch_imagenet_dataset/b1024_gpu4_dataloader12\n",
      "b1024_gpu4_dataloader12\n",
      "/mydata/pytorch_custom_log_and_vtune_one_epoch_imagenet_dataset/b1024_gpu4_dataloader16\n",
      "b1024_gpu4_dataloader16\n",
      "/mydata/pytorch_custom_log_and_vtune_one_epoch_imagenet_dataset/b1024_gpu4_dataloader20\n",
      "b1024_gpu4_dataloader20\n",
      "/mydata/pytorch_custom_log_and_vtune_one_epoch_imagenet_dataset/b1024_gpu4_dataloader24\n",
      "b1024_gpu4_dataloader24\n",
      "/mydata/pytorch_custom_log_and_vtune_one_epoch_imagenet_dataset/b1024_gpu4_dataloader28\n",
      "b1024_gpu4_dataloader28\n"
     ]
    }
   ],
   "source": [
    "# %%\n",
    "print(\"All numbers are in ms\")\n",
    "config_to_stats = generate_summary_stats_per_op(data_dir)"
   ]
  },
  {
   "cell_type": "code",
   "execution_count": 5,
   "metadata": {},
   "outputs": [],
   "source": [
    "# concat all the stats into one dataframe make keys a columns with name \"config\"\n",
    "all_stats_df = pd.concat(config_to_stats).reset_index() "
   ]
  },
  {
   "cell_type": "code",
   "execution_count": 6,
   "metadata": {},
   "outputs": [
    {
     "data": {
      "text/html": [
       "<div>\n",
       "<style scoped>\n",
       "    .dataframe tbody tr th:only-of-type {\n",
       "        vertical-align: middle;\n",
       "    }\n",
       "\n",
       "    .dataframe tbody tr th {\n",
       "        vertical-align: top;\n",
       "    }\n",
       "\n",
       "    .dataframe thead th {\n",
       "        text-align: right;\n",
       "    }\n",
       "</style>\n",
       "<table border=\"1\" class=\"dataframe\">\n",
       "  <thead>\n",
       "    <tr style=\"text-align: right;\">\n",
       "      <th></th>\n",
       "      <th>level_0</th>\n",
       "      <th>name</th>\n",
       "      <th>dur</th>\n",
       "    </tr>\n",
       "  </thead>\n",
       "  <tbody>\n",
       "    <tr>\n",
       "      <th>0</th>\n",
       "      <td>8</td>\n",
       "      <td>SCollation</td>\n",
       "      <td>5.639869e+05</td>\n",
       "    </tr>\n",
       "    <tr>\n",
       "      <th>1</th>\n",
       "      <td>8</td>\n",
       "      <td>SLoader</td>\n",
       "      <td>6.403771e+06</td>\n",
       "    </tr>\n",
       "    <tr>\n",
       "      <th>2</th>\n",
       "      <td>8</td>\n",
       "      <td>SNormalize</td>\n",
       "      <td>3.055109e+05</td>\n",
       "    </tr>\n",
       "    <tr>\n",
       "      <th>3</th>\n",
       "      <td>8</td>\n",
       "      <td>SRandomHorizontalFlip</td>\n",
       "      <td>9.313464e+04</td>\n",
       "    </tr>\n",
       "    <tr>\n",
       "      <th>4</th>\n",
       "      <td>8</td>\n",
       "      <td>SRandomResizedCrop</td>\n",
       "      <td>1.518370e+06</td>\n",
       "    </tr>\n",
       "    <tr>\n",
       "      <th>5</th>\n",
       "      <td>8</td>\n",
       "      <td>SToTensor</td>\n",
       "      <td>5.178513e+05</td>\n",
       "    </tr>\n",
       "    <tr>\n",
       "      <th>6</th>\n",
       "      <td>8</td>\n",
       "      <td>STransform</td>\n",
       "      <td>2.621928e+06</td>\n",
       "    </tr>\n",
       "    <tr>\n",
       "      <th>7</th>\n",
       "      <td>12</td>\n",
       "      <td>SCollation</td>\n",
       "      <td>5.901357e+05</td>\n",
       "    </tr>\n",
       "    <tr>\n",
       "      <th>8</th>\n",
       "      <td>12</td>\n",
       "      <td>SLoader</td>\n",
       "      <td>6.593468e+06</td>\n",
       "    </tr>\n",
       "    <tr>\n",
       "      <th>9</th>\n",
       "      <td>12</td>\n",
       "      <td>SNormalize</td>\n",
       "      <td>3.270434e+05</td>\n",
       "    </tr>\n",
       "  </tbody>\n",
       "</table>\n",
       "</div>"
      ],
      "text/plain": [
       "  level_0                   name           dur\n",
       "0       8             SCollation  5.639869e+05\n",
       "1       8                SLoader  6.403771e+06\n",
       "2       8             SNormalize  3.055109e+05\n",
       "3       8  SRandomHorizontalFlip  9.313464e+04\n",
       "4       8     SRandomResizedCrop  1.518370e+06\n",
       "5       8              SToTensor  5.178513e+05\n",
       "6       8             STransform  2.621928e+06\n",
       "7      12             SCollation  5.901357e+05\n",
       "8      12                SLoader  6.593468e+06\n",
       "9      12             SNormalize  3.270434e+05"
      ]
     },
     "execution_count": 6,
     "metadata": {},
     "output_type": "execute_result"
    }
   ],
   "source": [
    "all_stats_df.head(10)"
   ]
  },
  {
   "cell_type": "code",
   "execution_count": 7,
   "metadata": {},
   "outputs": [],
   "source": [
    "# replace the column name \"level_0\" with \"config\"\n",
    "all_stats_df = all_stats_df.rename(columns={\"level_0\": \"config\"})\n",
    "# replace the column name \"dur\" with \"E2E elapsed time (ms)\"\n",
    "all_stats_df = all_stats_df.rename(columns={\"dur\": \"E2E elapsed time (secs)\"})\n",
    "# replace the column name \"name\" with \"Function\"\n",
    "all_stats_df = all_stats_df.rename(columns={\"name\": \"Function\"})\n",
    "# cast config column as int\n",
    "all_stats_df[\"config\"] = all_stats_df[\"config\"].astype(int)"
   ]
  },
  {
   "cell_type": "code",
   "execution_count": 8,
   "metadata": {},
   "outputs": [],
   "source": [
    "# Strip leading 'S' in column 'Function'\n",
    "all_stats_df['Function'] = all_stats_df['Function'].str.lstrip('S')"
   ]
  },
  {
   "cell_type": "code",
   "execution_count": 9,
   "metadata": {},
   "outputs": [],
   "source": [
    "# remove column 'name' with 'STransform' \n",
    "all_stats_df = all_stats_df[~all_stats_df[\"Function\"].str.startswith(\"Transform\")]\n",
    "# remove column 'name' with 'SCollation'\n",
    "# all_stats_df = all_stats_df[~all_stats_df[\"Function\"].str.startswith(\"Collation\")]\n",
    "# remove SLoader\n",
    "# all_stats_df = all_stats_df[~all_stats_df[\"Function\"].str.startswith(\"Loader\")]"
   ]
  },
  {
   "cell_type": "code",
   "execution_count": 10,
   "metadata": {},
   "outputs": [
    {
     "data": {
      "text/html": [
       "<div>\n",
       "<style scoped>\n",
       "    .dataframe tbody tr th:only-of-type {\n",
       "        vertical-align: middle;\n",
       "    }\n",
       "\n",
       "    .dataframe tbody tr th {\n",
       "        vertical-align: top;\n",
       "    }\n",
       "\n",
       "    .dataframe thead th {\n",
       "        text-align: right;\n",
       "    }\n",
       "</style>\n",
       "<table border=\"1\" class=\"dataframe\">\n",
       "  <thead>\n",
       "    <tr style=\"text-align: right;\">\n",
       "      <th></th>\n",
       "      <th>config</th>\n",
       "      <th>Function</th>\n",
       "      <th>E2E elapsed time (secs)</th>\n",
       "    </tr>\n",
       "  </thead>\n",
       "  <tbody>\n",
       "    <tr>\n",
       "      <th>0</th>\n",
       "      <td>8</td>\n",
       "      <td>Collation</td>\n",
       "      <td>5.639869e+05</td>\n",
       "    </tr>\n",
       "    <tr>\n",
       "      <th>1</th>\n",
       "      <td>8</td>\n",
       "      <td>Loader</td>\n",
       "      <td>6.403771e+06</td>\n",
       "    </tr>\n",
       "    <tr>\n",
       "      <th>2</th>\n",
       "      <td>8</td>\n",
       "      <td>Normalize</td>\n",
       "      <td>3.055109e+05</td>\n",
       "    </tr>\n",
       "    <tr>\n",
       "      <th>3</th>\n",
       "      <td>8</td>\n",
       "      <td>RandomHorizontalFlip</td>\n",
       "      <td>9.313464e+04</td>\n",
       "    </tr>\n",
       "    <tr>\n",
       "      <th>4</th>\n",
       "      <td>8</td>\n",
       "      <td>RandomResizedCrop</td>\n",
       "      <td>1.518370e+06</td>\n",
       "    </tr>\n",
       "    <tr>\n",
       "      <th>5</th>\n",
       "      <td>8</td>\n",
       "      <td>ToTensor</td>\n",
       "      <td>5.178513e+05</td>\n",
       "    </tr>\n",
       "    <tr>\n",
       "      <th>7</th>\n",
       "      <td>12</td>\n",
       "      <td>Collation</td>\n",
       "      <td>5.901357e+05</td>\n",
       "    </tr>\n",
       "    <tr>\n",
       "      <th>8</th>\n",
       "      <td>12</td>\n",
       "      <td>Loader</td>\n",
       "      <td>6.593468e+06</td>\n",
       "    </tr>\n",
       "    <tr>\n",
       "      <th>9</th>\n",
       "      <td>12</td>\n",
       "      <td>Normalize</td>\n",
       "      <td>3.270434e+05</td>\n",
       "    </tr>\n",
       "    <tr>\n",
       "      <th>10</th>\n",
       "      <td>12</td>\n",
       "      <td>RandomHorizontalFlip</td>\n",
       "      <td>1.037676e+05</td>\n",
       "    </tr>\n",
       "  </tbody>\n",
       "</table>\n",
       "</div>"
      ],
      "text/plain": [
       "    config              Function  E2E elapsed time (secs)\n",
       "0        8             Collation             5.639869e+05\n",
       "1        8                Loader             6.403771e+06\n",
       "2        8             Normalize             3.055109e+05\n",
       "3        8  RandomHorizontalFlip             9.313464e+04\n",
       "4        8     RandomResizedCrop             1.518370e+06\n",
       "5        8              ToTensor             5.178513e+05\n",
       "7       12             Collation             5.901357e+05\n",
       "8       12                Loader             6.593468e+06\n",
       "9       12             Normalize             3.270434e+05\n",
       "10      12  RandomHorizontalFlip             1.037676e+05"
      ]
     },
     "execution_count": 10,
     "metadata": {},
     "output_type": "execute_result"
    }
   ],
   "source": [
    "all_stats_df.head(10)"
   ]
  },
  {
   "cell_type": "code",
   "execution_count": 11,
   "metadata": {},
   "outputs": [],
   "source": [
    "# divide the column \"E2E elapsed time (ms)\" by 1000 to get time in seconds\n",
    "all_stats_df[\"E2E elapsed time (secs)\"] = all_stats_df[\"E2E elapsed time (secs)\"] / 1000"
   ]
  },
  {
   "cell_type": "code",
   "execution_count": 12,
   "metadata": {},
   "outputs": [
    {
     "name": "stdout",
     "output_type": "stream",
     "text": [
      "Index(['config', 'Function', 'E2E elapsed time (secs)'], dtype='object')\n"
     ]
    }
   ],
   "source": [
    "print(all_stats_df.columns)"
   ]
  },
  {
   "cell_type": "code",
   "execution_count": 13,
   "metadata": {},
   "outputs": [
    {
     "data": {
      "text/html": [
       "<div>\n",
       "<style scoped>\n",
       "    .dataframe tbody tr th:only-of-type {\n",
       "        vertical-align: middle;\n",
       "    }\n",
       "\n",
       "    .dataframe tbody tr th {\n",
       "        vertical-align: top;\n",
       "    }\n",
       "\n",
       "    .dataframe thead th {\n",
       "        text-align: right;\n",
       "    }\n",
       "</style>\n",
       "<table border=\"1\" class=\"dataframe\">\n",
       "  <thead>\n",
       "    <tr style=\"text-align: right;\">\n",
       "      <th></th>\n",
       "      <th>config</th>\n",
       "      <th>Function</th>\n",
       "      <th>E2E elapsed time (secs)</th>\n",
       "    </tr>\n",
       "  </thead>\n",
       "  <tbody>\n",
       "    <tr>\n",
       "      <th>0</th>\n",
       "      <td>8</td>\n",
       "      <td>Collation</td>\n",
       "      <td>563.986893</td>\n",
       "    </tr>\n",
       "    <tr>\n",
       "      <th>1</th>\n",
       "      <td>8</td>\n",
       "      <td>Loader</td>\n",
       "      <td>6403.771336</td>\n",
       "    </tr>\n",
       "    <tr>\n",
       "      <th>2</th>\n",
       "      <td>8</td>\n",
       "      <td>Normalize</td>\n",
       "      <td>305.510900</td>\n",
       "    </tr>\n",
       "    <tr>\n",
       "      <th>3</th>\n",
       "      <td>8</td>\n",
       "      <td>RandomHorizontalFlip</td>\n",
       "      <td>93.134639</td>\n",
       "    </tr>\n",
       "    <tr>\n",
       "      <th>4</th>\n",
       "      <td>8</td>\n",
       "      <td>RandomResizedCrop</td>\n",
       "      <td>1518.370253</td>\n",
       "    </tr>\n",
       "    <tr>\n",
       "      <th>5</th>\n",
       "      <td>8</td>\n",
       "      <td>ToTensor</td>\n",
       "      <td>517.851274</td>\n",
       "    </tr>\n",
       "    <tr>\n",
       "      <th>7</th>\n",
       "      <td>12</td>\n",
       "      <td>Collation</td>\n",
       "      <td>590.135717</td>\n",
       "    </tr>\n",
       "    <tr>\n",
       "      <th>8</th>\n",
       "      <td>12</td>\n",
       "      <td>Loader</td>\n",
       "      <td>6593.468413</td>\n",
       "    </tr>\n",
       "    <tr>\n",
       "      <th>9</th>\n",
       "      <td>12</td>\n",
       "      <td>Normalize</td>\n",
       "      <td>327.043441</td>\n",
       "    </tr>\n",
       "    <tr>\n",
       "      <th>10</th>\n",
       "      <td>12</td>\n",
       "      <td>RandomHorizontalFlip</td>\n",
       "      <td>103.767641</td>\n",
       "    </tr>\n",
       "    <tr>\n",
       "      <th>11</th>\n",
       "      <td>12</td>\n",
       "      <td>RandomResizedCrop</td>\n",
       "      <td>1626.752774</td>\n",
       "    </tr>\n",
       "    <tr>\n",
       "      <th>12</th>\n",
       "      <td>12</td>\n",
       "      <td>ToTensor</td>\n",
       "      <td>590.906686</td>\n",
       "    </tr>\n",
       "    <tr>\n",
       "      <th>14</th>\n",
       "      <td>16</td>\n",
       "      <td>Collation</td>\n",
       "      <td>598.559592</td>\n",
       "    </tr>\n",
       "    <tr>\n",
       "      <th>15</th>\n",
       "      <td>16</td>\n",
       "      <td>Loader</td>\n",
       "      <td>6993.188165</td>\n",
       "    </tr>\n",
       "    <tr>\n",
       "      <th>16</th>\n",
       "      <td>16</td>\n",
       "      <td>Normalize</td>\n",
       "      <td>340.897326</td>\n",
       "    </tr>\n",
       "    <tr>\n",
       "      <th>17</th>\n",
       "      <td>16</td>\n",
       "      <td>RandomHorizontalFlip</td>\n",
       "      <td>115.473951</td>\n",
       "    </tr>\n",
       "    <tr>\n",
       "      <th>18</th>\n",
       "      <td>16</td>\n",
       "      <td>RandomResizedCrop</td>\n",
       "      <td>1764.971071</td>\n",
       "    </tr>\n",
       "    <tr>\n",
       "      <th>19</th>\n",
       "      <td>16</td>\n",
       "      <td>ToTensor</td>\n",
       "      <td>645.331625</td>\n",
       "    </tr>\n",
       "    <tr>\n",
       "      <th>21</th>\n",
       "      <td>20</td>\n",
       "      <td>Collation</td>\n",
       "      <td>682.980434</td>\n",
       "    </tr>\n",
       "    <tr>\n",
       "      <th>22</th>\n",
       "      <td>20</td>\n",
       "      <td>Loader</td>\n",
       "      <td>8015.665778</td>\n",
       "    </tr>\n",
       "    <tr>\n",
       "      <th>23</th>\n",
       "      <td>20</td>\n",
       "      <td>Normalize</td>\n",
       "      <td>373.955439</td>\n",
       "    </tr>\n",
       "    <tr>\n",
       "      <th>24</th>\n",
       "      <td>20</td>\n",
       "      <td>RandomHorizontalFlip</td>\n",
       "      <td>134.831770</td>\n",
       "    </tr>\n",
       "    <tr>\n",
       "      <th>25</th>\n",
       "      <td>20</td>\n",
       "      <td>RandomResizedCrop</td>\n",
       "      <td>2108.322262</td>\n",
       "    </tr>\n",
       "    <tr>\n",
       "      <th>26</th>\n",
       "      <td>20</td>\n",
       "      <td>ToTensor</td>\n",
       "      <td>741.627180</td>\n",
       "    </tr>\n",
       "    <tr>\n",
       "      <th>28</th>\n",
       "      <td>24</td>\n",
       "      <td>Collation</td>\n",
       "      <td>761.979441</td>\n",
       "    </tr>\n",
       "    <tr>\n",
       "      <th>29</th>\n",
       "      <td>24</td>\n",
       "      <td>Loader</td>\n",
       "      <td>8890.533512</td>\n",
       "    </tr>\n",
       "    <tr>\n",
       "      <th>30</th>\n",
       "      <td>24</td>\n",
       "      <td>Normalize</td>\n",
       "      <td>403.671689</td>\n",
       "    </tr>\n",
       "    <tr>\n",
       "      <th>31</th>\n",
       "      <td>24</td>\n",
       "      <td>RandomHorizontalFlip</td>\n",
       "      <td>154.762781</td>\n",
       "    </tr>\n",
       "    <tr>\n",
       "      <th>32</th>\n",
       "      <td>24</td>\n",
       "      <td>RandomResizedCrop</td>\n",
       "      <td>2410.364354</td>\n",
       "    </tr>\n",
       "    <tr>\n",
       "      <th>33</th>\n",
       "      <td>24</td>\n",
       "      <td>ToTensor</td>\n",
       "      <td>827.315515</td>\n",
       "    </tr>\n",
       "    <tr>\n",
       "      <th>35</th>\n",
       "      <td>28</td>\n",
       "      <td>Collation</td>\n",
       "      <td>854.897752</td>\n",
       "    </tr>\n",
       "    <tr>\n",
       "      <th>36</th>\n",
       "      <td>28</td>\n",
       "      <td>Loader</td>\n",
       "      <td>9524.580189</td>\n",
       "    </tr>\n",
       "    <tr>\n",
       "      <th>37</th>\n",
       "      <td>28</td>\n",
       "      <td>Normalize</td>\n",
       "      <td>421.846047</td>\n",
       "    </tr>\n",
       "    <tr>\n",
       "      <th>38</th>\n",
       "      <td>28</td>\n",
       "      <td>RandomHorizontalFlip</td>\n",
       "      <td>162.301185</td>\n",
       "    </tr>\n",
       "    <tr>\n",
       "      <th>39</th>\n",
       "      <td>28</td>\n",
       "      <td>RandomResizedCrop</td>\n",
       "      <td>2573.914097</td>\n",
       "    </tr>\n",
       "    <tr>\n",
       "      <th>40</th>\n",
       "      <td>28</td>\n",
       "      <td>ToTensor</td>\n",
       "      <td>886.106667</td>\n",
       "    </tr>\n",
       "  </tbody>\n",
       "</table>\n",
       "</div>"
      ],
      "text/plain": [
       "    config              Function  E2E elapsed time (secs)\n",
       "0        8             Collation               563.986893\n",
       "1        8                Loader              6403.771336\n",
       "2        8             Normalize               305.510900\n",
       "3        8  RandomHorizontalFlip                93.134639\n",
       "4        8     RandomResizedCrop              1518.370253\n",
       "5        8              ToTensor               517.851274\n",
       "7       12             Collation               590.135717\n",
       "8       12                Loader              6593.468413\n",
       "9       12             Normalize               327.043441\n",
       "10      12  RandomHorizontalFlip               103.767641\n",
       "11      12     RandomResizedCrop              1626.752774\n",
       "12      12              ToTensor               590.906686\n",
       "14      16             Collation               598.559592\n",
       "15      16                Loader              6993.188165\n",
       "16      16             Normalize               340.897326\n",
       "17      16  RandomHorizontalFlip               115.473951\n",
       "18      16     RandomResizedCrop              1764.971071\n",
       "19      16              ToTensor               645.331625\n",
       "21      20             Collation               682.980434\n",
       "22      20                Loader              8015.665778\n",
       "23      20             Normalize               373.955439\n",
       "24      20  RandomHorizontalFlip               134.831770\n",
       "25      20     RandomResizedCrop              2108.322262\n",
       "26      20              ToTensor               741.627180\n",
       "28      24             Collation               761.979441\n",
       "29      24                Loader              8890.533512\n",
       "30      24             Normalize               403.671689\n",
       "31      24  RandomHorizontalFlip               154.762781\n",
       "32      24     RandomResizedCrop              2410.364354\n",
       "33      24              ToTensor               827.315515\n",
       "35      28             Collation               854.897752\n",
       "36      28                Loader              9524.580189\n",
       "37      28             Normalize               421.846047\n",
       "38      28  RandomHorizontalFlip               162.301185\n",
       "39      28     RandomResizedCrop              2573.914097\n",
       "40      28              ToTensor               886.106667"
      ]
     },
     "execution_count": 13,
     "metadata": {},
     "output_type": "execute_result"
    }
   ],
   "source": [
    "all_stats_df.head(len(all_stats_df))"
   ]
  },
  {
   "cell_type": "code",
   "execution_count": 14,
   "metadata": {},
   "outputs": [],
   "source": [
    "want_max_diff = True"
   ]
  },
  {
   "cell_type": "code",
   "execution_count": 15,
   "metadata": {},
   "outputs": [
    {
     "name": "stdout",
     "output_type": "stream",
     "text": [
      "Max config: 28, Min config: 8, \n",
      "Difference in elapsed time: 5021.02 seconds\n"
     ]
    }
   ],
   "source": [
    "if want_max_diff:\n",
    "    # get sum of 'E2E elapsed time (secs)' for each config\n",
    "    tmp = all_stats_df.groupby('config')['E2E elapsed time (secs)'].sum().sort_values(ascending=False)\n",
    "    # get the first index of tmp\n",
    "    max_config = tmp.index[0]\n",
    "    min_config = tmp.index[-1]\n",
    "    #  print max config and min config along with the difference\n",
    "    print(\"Max config: {}, Min config: {}, \\nDifference in elapsed time: {:.2f} seconds\".format(max_config, min_config, tmp[max_config] - tmp[min_config]))\n",
    "    config1 = max_config\n",
    "    config2 = min_config\n",
    "else:\n",
    "    batch_size1 = 1024\n",
    "    batch_size2 = 256\n",
    "    gpus1 = 4\n",
    "    gpus2 = 1\n",
    "\n",
    "    config1 = f'b{batch_size1}_gpu{gpus1}'\n",
    "    config2 = f'b{batch_size2}_gpu{gpus2}'"
   ]
  },
  {
   "cell_type": "code",
   "execution_count": 16,
   "metadata": {},
   "outputs": [
    {
     "data": {
      "text/plain": [
       "config\n",
       "8      9402.625295\n",
       "12     9832.074672\n",
       "16    10458.421729\n",
       "20    12057.382864\n",
       "24    13448.627293\n",
       "28    14423.645936\n",
       "Name: E2E elapsed time (secs), dtype: float64"
      ]
     },
     "execution_count": 16,
     "metadata": {},
     "output_type": "execute_result"
    }
   ],
   "source": [
    "# sort tmp dataframe by config\n",
    "tmp.sort_index(inplace=True)\n",
    "\n",
    "tmp"
   ]
  },
  {
   "cell_type": "code",
   "execution_count": 17,
   "metadata": {},
   "outputs": [
    {
     "data": {
      "text/plain": [
       "<Axes: xlabel='config'>"
      ]
     },
     "execution_count": 17,
     "metadata": {},
     "output_type": "execute_result"
    },
    {
     "data": {
      "image/png": "[encoded data removed]",
      "text/plain": [
       "<Figure size 640x480 with 1 Axes>"
      ]
     },
     "metadata": {},
     "output_type": "display_data"
    }
   ],
   "source": [
    "# plot tmp\n",
    "tmp.plot.bar()"
   ]
  },
  {
   "cell_type": "code",
   "execution_count": 18,
   "metadata": {},
   "outputs": [
    {
     "data": {
      "image/png": "[encoded data removed]",
      "text/plain": [
       "<Figure size 640x480 with 1 Axes>"
      ]
     },
     "metadata": {},
     "output_type": "display_data"
    }
   ],
   "source": [
    "# divide tmp by the lowest value\n",
    "tmp = tmp / tmp.min()\n",
    "\n",
    "# plot tmp\n",
    "tmp.plot.bar()\n",
    "# add bar height as text\n",
    "for i, v in enumerate(tmp):\n",
    "    plt.text(i, v, \"{:.2f}\".format(v), ha='center', va='bottom')\n"
   ]
  },
  {
   "cell_type": "code",
   "execution_count": 19,
   "metadata": {},
   "outputs": [
    {
     "data": {
      "text/plain": [
       "Text(0.5, 1.0, 'Preprocessing time per operation')"
      ]
     },
     "execution_count": 19,
     "metadata": {},
     "output_type": "execute_result"
    },
    {
     "data": {
      "image/png": "[encoded data removed]",
      "text/plain": [
       "<Figure size 640x480 with 1 Axes>"
      ]
     },
     "metadata": {},
     "output_type": "display_data"
    }
   ],
   "source": [
    "# plot stacked bar chart for each config\n",
    "all_config_stacked = all_stats_df.groupby(['config', 'Function'])['E2E elapsed time (secs)'].sum().unstack()\n",
    "all_config_stacked.plot.bar(stacked=True, colormap='jet')\n",
    "# put legend on top of the plot\n",
    "plt.legend(bbox_to_anchor=(0.5, 1.2), loc='upper center', borderaxespad=0., ncol=3)\n",
    "# plt.legend(bbox_to_anchor=(1.05, 1), loc='upper', borderaxespad=0.,ncol=3)\n",
    "# y axis is elapsed time in seconds\n",
    "plt.ylabel('CPU secs')\n",
    "# x axis is Dataloaders\n",
    "plt.xlabel('Dataloaders')\n",
    "# make x axis horizontal\n",
    "plt.xticks(rotation=0)\n",
    "# make title \n",
    "plt.title('Preprocessing time per operation')\n",
    "# make legend horizontal on top of the title \n"
   ]
  },
  {
   "cell_type": "code",
   "execution_count": 20,
   "metadata": {},
   "outputs": [],
   "source": [
    "# all_config_stacked save as csv\n",
    "all_config_stacked.to_csv('/mydata/rbachkaniwala3/code/rajveerb-ml-pipeline-benchmark/code/image_classification/analysis/custom_logs/all_config_stacked.csv')"
   ]
  },
  {
   "cell_type": "code",
   "execution_count": 21,
   "metadata": {},
   "outputs": [
    {
     "name": "stdout",
     "output_type": "stream",
     "text": [
      "Difference in elapsed time 28 - 8 : 0.534 seconds\n"
     ]
    }
   ],
   "source": [
    "# pretty print the difference in elapsed time\n",
    "print(\"Difference in elapsed time {} - {} : {:.3f} seconds\".format(config1,config2, tmp[config1] - tmp[config2]))"
   ]
  },
  {
   "cell_type": "code",
   "execution_count": 22,
   "metadata": {},
   "outputs": [
    {
     "name": "stdout",
     "output_type": "stream",
     "text": [
      "                Function config E2E elapsed time (secs)\n",
      "                                                    sum\n",
      "0              Collation      8              563.986893\n",
      "1              Collation     28              854.897752\n",
      "2                 Loader      8             6403.771336\n",
      "3                 Loader     28             9524.580189\n",
      "4              Normalize      8              305.510900\n",
      "5              Normalize     28              421.846047\n",
      "6   RandomHorizontalFlip      8               93.134639\n",
      "7   RandomHorizontalFlip     28              162.301185\n",
      "8      RandomResizedCrop      8             1518.370253\n",
      "9      RandomResizedCrop     28             2573.914097\n",
      "10              ToTensor      8              517.851274\n",
      "11              ToTensor     28              886.106667\n",
      "Difference in elapsed time 28 and 8 across functions\n",
      "                Function         diff\n",
      "3                 Loader  3120.808852\n",
      "9      RandomResizedCrop  1055.543844\n",
      "11              ToTensor   368.255393\n",
      "1              Collation   290.910859\n",
      "5              Normalize   116.335146\n",
      "7   RandomHorizontalFlip    69.166546\n"
     ]
    }
   ],
   "source": [
    "# get difference of the functions' 'E2E elapsed time (secs)' between config1 and config2\n",
    "diff_df = all_stats_df[all_stats_df[\"config\"].isin([config1, config2])].groupby([\"Function\", \"config\"]).agg([\"sum\"]).reset_index()\n",
    "print(diff_df.head(len(diff_df)))\n",
    "diff_df.columns = diff_df.columns.get_level_values(0)\n",
    "diff_df[\"diff\"] = diff_df.groupby(\"Function\")[\"E2E elapsed time (secs)\"].diff()\n",
    "diff_df = diff_df.dropna()\n",
    "diff_df = diff_df.sort_values(by=[\"diff\"], ascending=False)\n",
    "# drop column config and 'E2E elapsed time (secs)'\n",
    "diff_df = diff_df.drop(columns=[\"config\", \"E2E elapsed time (secs)\"])\n",
    "# pretty print the difference in elapsed time\n",
    "print(\"Difference in elapsed time {} and {} across functions\".format(config1,config2))\n",
    "print(diff_df.head(len(diff_df)))"
   ]
  },
  {
   "cell_type": "code",
   "execution_count": 23,
   "metadata": {},
   "outputs": [],
   "source": [
    "# only keep cofngi values with config 'b256_gpu2' and '1024_gpu4' in all_stats_df\n",
    "all_stats_df_filtered = all_stats_df[all_stats_df['config'].isin([config1, config2])]"
   ]
  },
  {
   "cell_type": "code",
   "execution_count": 24,
   "metadata": {},
   "outputs": [
    {
     "data": {
      "text/html": [
       "<div>\n",
       "<style scoped>\n",
       "    .dataframe tbody tr th:only-of-type {\n",
       "        vertical-align: middle;\n",
       "    }\n",
       "\n",
       "    .dataframe tbody tr th {\n",
       "        vertical-align: top;\n",
       "    }\n",
       "\n",
       "    .dataframe thead th {\n",
       "        text-align: right;\n",
       "    }\n",
       "</style>\n",
       "<table border=\"1\" class=\"dataframe\">\n",
       "  <thead>\n",
       "    <tr style=\"text-align: right;\">\n",
       "      <th></th>\n",
       "      <th>config</th>\n",
       "      <th>Function</th>\n",
       "      <th>E2E elapsed time (secs)</th>\n",
       "    </tr>\n",
       "  </thead>\n",
       "  <tbody>\n",
       "    <tr>\n",
       "      <th>0</th>\n",
       "      <td>8</td>\n",
       "      <td>Collation</td>\n",
       "      <td>563.986893</td>\n",
       "    </tr>\n",
       "    <tr>\n",
       "      <th>1</th>\n",
       "      <td>8</td>\n",
       "      <td>Loader</td>\n",
       "      <td>6403.771336</td>\n",
       "    </tr>\n",
       "    <tr>\n",
       "      <th>2</th>\n",
       "      <td>8</td>\n",
       "      <td>Normalize</td>\n",
       "      <td>305.510900</td>\n",
       "    </tr>\n",
       "    <tr>\n",
       "      <th>3</th>\n",
       "      <td>8</td>\n",
       "      <td>RandomHorizontalFlip</td>\n",
       "      <td>93.134639</td>\n",
       "    </tr>\n",
       "    <tr>\n",
       "      <th>4</th>\n",
       "      <td>8</td>\n",
       "      <td>RandomResizedCrop</td>\n",
       "      <td>1518.370253</td>\n",
       "    </tr>\n",
       "    <tr>\n",
       "      <th>5</th>\n",
       "      <td>8</td>\n",
       "      <td>ToTensor</td>\n",
       "      <td>517.851274</td>\n",
       "    </tr>\n",
       "    <tr>\n",
       "      <th>35</th>\n",
       "      <td>28</td>\n",
       "      <td>Collation</td>\n",
       "      <td>854.897752</td>\n",
       "    </tr>\n",
       "    <tr>\n",
       "      <th>36</th>\n",
       "      <td>28</td>\n",
       "      <td>Loader</td>\n",
       "      <td>9524.580189</td>\n",
       "    </tr>\n",
       "    <tr>\n",
       "      <th>37</th>\n",
       "      <td>28</td>\n",
       "      <td>Normalize</td>\n",
       "      <td>421.846047</td>\n",
       "    </tr>\n",
       "    <tr>\n",
       "      <th>38</th>\n",
       "      <td>28</td>\n",
       "      <td>RandomHorizontalFlip</td>\n",
       "      <td>162.301185</td>\n",
       "    </tr>\n",
       "    <tr>\n",
       "      <th>39</th>\n",
       "      <td>28</td>\n",
       "      <td>RandomResizedCrop</td>\n",
       "      <td>2573.914097</td>\n",
       "    </tr>\n",
       "    <tr>\n",
       "      <th>40</th>\n",
       "      <td>28</td>\n",
       "      <td>ToTensor</td>\n",
       "      <td>886.106667</td>\n",
       "    </tr>\n",
       "  </tbody>\n",
       "</table>\n",
       "</div>"
      ],
      "text/plain": [
       "    config              Function  E2E elapsed time (secs)\n",
       "0        8             Collation               563.986893\n",
       "1        8                Loader              6403.771336\n",
       "2        8             Normalize               305.510900\n",
       "3        8  RandomHorizontalFlip                93.134639\n",
       "4        8     RandomResizedCrop              1518.370253\n",
       "5        8              ToTensor               517.851274\n",
       "35      28             Collation               854.897752\n",
       "36      28                Loader              9524.580189\n",
       "37      28             Normalize               421.846047\n",
       "38      28  RandomHorizontalFlip               162.301185\n",
       "39      28     RandomResizedCrop              2573.914097\n",
       "40      28              ToTensor               886.106667"
      ]
     },
     "execution_count": 24,
     "metadata": {},
     "output_type": "execute_result"
    }
   ],
   "source": [
    "all_stats_df_filtered.head(len(all_stats_df_filtered))"
   ]
  },
  {
   "cell_type": "code",
   "execution_count": 25,
   "metadata": {},
   "outputs": [],
   "source": [
    "# pivot table with config as index and name as columns and E2E elapsed time (ms) as values\n",
    "pivot_df = all_stats_df_filtered.pivot_table(index='config', columns='Function', values='E2E elapsed time (secs)')"
   ]
  },
  {
   "cell_type": "code",
   "execution_count": 26,
   "metadata": {},
   "outputs": [],
   "source": [
    "# do a natsort over the config column\n",
    "pivot_df = pivot_df.reindex(natsort.natsorted(pivot_df.index))"
   ]
  },
  {
   "cell_type": "code",
   "execution_count": 27,
   "metadata": {},
   "outputs": [
    {
     "data": {
      "text/html": [
       "<div>\n",
       "<style scoped>\n",
       "    .dataframe tbody tr th:only-of-type {\n",
       "        vertical-align: middle;\n",
       "    }\n",
       "\n",
       "    .dataframe tbody tr th {\n",
       "        vertical-align: top;\n",
       "    }\n",
       "\n",
       "    .dataframe thead th {\n",
       "        text-align: right;\n",
       "    }\n",
       "</style>\n",
       "<table border=\"1\" class=\"dataframe\">\n",
       "  <thead>\n",
       "    <tr style=\"text-align: right;\">\n",
       "      <th>Function</th>\n",
       "      <th>Collation</th>\n",
       "      <th>Loader</th>\n",
       "      <th>Normalize</th>\n",
       "      <th>RandomHorizontalFlip</th>\n",
       "      <th>RandomResizedCrop</th>\n",
       "      <th>ToTensor</th>\n",
       "    </tr>\n",
       "    <tr>\n",
       "      <th>config</th>\n",
       "      <th></th>\n",
       "      <th></th>\n",
       "      <th></th>\n",
       "      <th></th>\n",
       "      <th></th>\n",
       "      <th></th>\n",
       "    </tr>\n",
       "  </thead>\n",
       "  <tbody>\n",
       "    <tr>\n",
       "      <th>8</th>\n",
       "      <td>563.986893</td>\n",
       "      <td>6403.771336</td>\n",
       "      <td>305.510900</td>\n",
       "      <td>93.134639</td>\n",
       "      <td>1518.370253</td>\n",
       "      <td>517.851274</td>\n",
       "    </tr>\n",
       "    <tr>\n",
       "      <th>28</th>\n",
       "      <td>854.897752</td>\n",
       "      <td>9524.580189</td>\n",
       "      <td>421.846047</td>\n",
       "      <td>162.301185</td>\n",
       "      <td>2573.914097</td>\n",
       "      <td>886.106667</td>\n",
       "    </tr>\n",
       "  </tbody>\n",
       "</table>\n",
       "</div>"
      ],
      "text/plain": [
       "Function   Collation       Loader   Normalize  RandomHorizontalFlip  RandomResizedCrop    ToTensor\n",
       "config                                                                                            \n",
       "8         563.986893  6403.771336  305.510900             93.134639        1518.370253  517.851274\n",
       "28        854.897752  9524.580189  421.846047            162.301185        2573.914097  886.106667"
      ]
     },
     "execution_count": 27,
     "metadata": {},
     "output_type": "execute_result"
    }
   ],
   "source": [
    "pivot_df.head(len(pivot_df))"
   ]
  },
  {
   "cell_type": "code",
   "execution_count": 28,
   "metadata": {},
   "outputs": [
    {
     "data": {
      "text/plain": [
       "Text(0, 0.5, 'E2E elapsed time (secs)')"
      ]
     },
     "execution_count": 28,
     "metadata": {},
     "output_type": "execute_result"
    },
    {
     "data": {
      "image/png": "[encoded data removed]",
      "text/plain": [
       "<Figure size 500x800 with 1 Axes>"
      ]
     },
     "metadata": {},
     "output_type": "display_data"
    }
   ],
   "source": [
    "pivot_df.plot(kind='bar', stacked=True, figsize=(5,8))\n",
    "# set the title of the plot\n",
    "plt.title('E2E elapsed time (secs) per preprocessing op\\n (batch size 1024, 4 GPUs)')\n",
    "# set the x-axis label\n",
    "plt.xlabel('Number of dataloaders')\n",
    "# set the y-axis label\n",
    "plt.ylabel('E2E elapsed time (secs)')"
   ]
  },
  {
   "cell_type": "code",
   "execution_count": 29,
   "metadata": {},
   "outputs": [
    {
     "data": {
      "image/png": "[encoded data removed]",
      "text/plain": [
       "<Figure size 1000x500 with 2 Axes>"
      ]
     },
     "metadata": {},
     "output_type": "display_data"
    }
   ],
   "source": [
    "# get dataframe with function 'SLoader' only\n",
    "pivot_df_SLoader = pivot_df[['Loader']]\n",
    "\n",
    "# get dataframe with all functions except 'SLoader' without dropping the 'SLoader' column\n",
    "pivot_df_without_SLoader = pivot_df.drop(columns=['Loader'])\n",
    "\n",
    "# generate a subplot with above two figures\n",
    "fig, axes = plt.subplots(1, 2, figsize=(10, 5))\n",
    "pivot_df_SLoader.plot(kind='bar', ax=axes[0])\n",
    "pivot_df_without_SLoader.plot(kind='bar', stacked=True, ax=axes[1])\n",
    "\n",
    "# squeeze figsize of first subplot horizontally\n",
    "fig.subplots_adjust(wspace=0.5)\n",
    "\n",
    "# display legends at the top of each subplot\n",
    "axes[0].legend(bbox_to_anchor=(0.5, 1.2), loc='upper center', borderaxespad=0.)\n",
    "# make legend of second subplot outside the plot at the top and make it horizontal\n",
    "axes[1].legend(bbox_to_anchor=(0.5, 1.2), loc='upper center', borderaxespad=0., ncol=3)\n",
    "\n",
    "# set y label for first subplot\n",
    "axes[0].set_ylabel('E2E elapsed time (secs)')\n",
    "# set y label for second subplot\n",
    "axes[1].set_ylabel('E2E elapsed time (secs)')\n",
    "# set x label for first subplot\n",
    "axes[0].set_xlabel('config')\n",
    "# set x label for second subplot\n",
    "axes[1].set_xlabel('config')\n",
    "\n",
    "# make x axis labels horizontal for all subplots\n",
    "for ax in axes:\n",
    "    ax.tick_params(axis='x', labelrotation=0)\n",
    "plt.show()\n",
    "\n"
   ]
  }
 ],
 "metadata": {
  "kernelspec": {
   "display_name": "Python 3",
   "language": "python",
   "name": "python3"
  },
  "language_info": {
   "codemirror_mode": {
    "name": "ipython",
    "version": 3
   },
   "file_extension": ".py",
   "mimetype": "text/x-python",
   "name": "python",
   "nbconvert_exporter": "python",
   "pygments_lexer": "ipython3",
   "version": "3.10.11"
  },
  "orig_nbformat": 4
 },
 "nbformat": 4,
 "nbformat_minor": 2
}

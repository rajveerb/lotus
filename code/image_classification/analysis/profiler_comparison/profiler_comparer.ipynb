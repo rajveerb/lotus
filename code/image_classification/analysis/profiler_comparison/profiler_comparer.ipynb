{
 "cells": [
  {
   "cell_type": "code",
   "execution_count": 78,
   "metadata": {},
   "outputs": [],
   "source": [
    "import pandas as pd\n",
    "import os,natsort\n"
   ]
  },
  {
   "cell_type": "code",
   "execution_count": 79,
   "metadata": {},
   "outputs": [],
   "source": [
    "e2e_dir = \"/mydata/profiler_benchmark/e2e/\"\n",
    "raw_e2e_file = os.path.join(e2e_dir, \"raw_e2e.csv\")\n",
    "normalized_e2e_file = os.path.join(e2e_dir, \"normalized_e2e.csv\")"
   ]
  },
  {
   "cell_type": "code",
   "execution_count": 80,
   "metadata": {},
   "outputs": [],
   "source": [
    "# recursively find all the csv files in the directory\n",
    "csv_files = []\n",
    "for root, dirs, files in os.walk(e2e_dir):\n",
    "    for file in files:\n",
    "        if file.endswith(\".log\"):\n",
    "            csv_files.append(os.path.join(root, file))\n"
   ]
  },
  {
   "cell_type": "code",
   "execution_count": 81,
   "metadata": {},
   "outputs": [
    {
     "data": {
      "text/plain": [
       "['/mydata/profiler_benchmark/e2e/custom_log_b1024_gpu4.log',\n",
       " '/mydata/profiler_benchmark/e2e/scalene_b512_gpu1.log',\n",
       " '/mydata/profiler_benchmark/e2e/no_profiler_b1024_gpu4.log',\n",
       " '/mydata/profiler_benchmark/e2e/no_profiler_b512_gpu1.log',\n",
       " '/mydata/profiler_benchmark/e2e/py-spy_b512_gpu1.log',\n",
       " '/mydata/profiler_benchmark/e2e/custom_log_b512_gpu1.log',\n",
       " '/mydata/profiler_benchmark/e2e/py-spy_b1024_gpu4.log']"
      ]
     },
     "execution_count": 81,
     "metadata": {},
     "output_type": "execute_result"
    }
   ],
   "source": [
    "csv_files"
   ]
  },
  {
   "cell_type": "code",
   "execution_count": 82,
   "metadata": {},
   "outputs": [],
   "source": [
    "# convert all the csv files to pandas dataframes, add file name as a column and concat them\n",
    "df = pd.concat((pd.read_csv(f).assign(file_name=os.path.basename(f)) for f in csv_files),ignore_index=True)\n"
   ]
  },
  {
   "cell_type": "code",
   "execution_count": 83,
   "metadata": {},
   "outputs": [],
   "source": [
    "# save the dataframe to a csv file\n",
    "df.to_csv(raw_e2e_file, index=False)"
   ]
  },
  {
   "cell_type": "code",
   "execution_count": 84,
   "metadata": {},
   "outputs": [],
   "source": [
    "# sort by file name using natsort and reset the index\n",
    "\n",
    "df = df.iloc[natsort.index_natsorted(df['file_name'])]\n",
    "df = df.reset_index(drop=True)"
   ]
  },
  {
   "cell_type": "code",
   "execution_count": 85,
   "metadata": {},
   "outputs": [],
   "source": [
    "#  get row number with file_name beginning with \"no_profiler\"\n",
    "no_profiler_index = df[df['file_name'].str.startswith(\"no_profiler\")].index.values[0]"
   ]
  },
  {
   "cell_type": "code",
   "execution_count": 86,
   "metadata": {},
   "outputs": [],
   "source": [
    "# normalize every column, except \"file_name\" with respect to the no_profiler_index in % and subtract 100\n",
    "\n",
    "# copy the dataframe\n",
    "df_norm = df.copy()\n",
    "\n",
    "for col in df_norm.columns:\n",
    "    if col != \"file_name\":\n",
    "        df_norm[col] = df_norm[col].div(df_norm.iloc[no_profiler_index][col])\n",
    "\n",
    "        "
   ]
  },
  {
   "cell_type": "code",
   "execution_count": 87,
   "metadata": {},
   "outputs": [],
   "source": [
    "# save the normalized dataframe to a csv file\n",
    "df_norm.to_csv(normalized_e2e_file, index=False)"
   ]
  },
  {
   "cell_type": "code",
   "execution_count": 90,
   "metadata": {},
   "outputs": [
    {
     "data": {
      "text/html": [
       "<div>\n",
       "<style scoped>\n",
       "    .dataframe tbody tr th:only-of-type {\n",
       "        vertical-align: middle;\n",
       "    }\n",
       "\n",
       "    .dataframe tbody tr th {\n",
       "        vertical-align: top;\n",
       "    }\n",
       "\n",
       "    .dataframe thead th {\n",
       "        text-align: right;\n",
       "    }\n",
       "</style>\n",
       "<table border=\"1\" class=\"dataframe\">\n",
       "  <thead>\n",
       "    <tr style=\"text-align: right;\">\n",
       "      <th></th>\n",
       "      <th>wall(s)</th>\n",
       "      <th>user(s)</th>\n",
       "      <th>kernel(s)</th>\n",
       "      <th>max_rss(KB)</th>\n",
       "      <th>file_name</th>\n",
       "    </tr>\n",
       "  </thead>\n",
       "  <tbody>\n",
       "    <tr>\n",
       "      <th>0</th>\n",
       "      <td>1.001416</td>\n",
       "      <td>1.011553</td>\n",
       "      <td>1.062180</td>\n",
       "      <td>1.009760</td>\n",
       "      <td>custom_log_b512_gpu1.log</td>\n",
       "    </tr>\n",
       "    <tr>\n",
       "      <th>1</th>\n",
       "      <td>0.247356</td>\n",
       "      <td>1.048468</td>\n",
       "      <td>1.305170</td>\n",
       "      <td>3.059655</td>\n",
       "      <td>custom_log_b1024_gpu4.log</td>\n",
       "    </tr>\n",
       "    <tr>\n",
       "      <th>2</th>\n",
       "      <td>1.000000</td>\n",
       "      <td>1.000000</td>\n",
       "      <td>1.000000</td>\n",
       "      <td>1.000000</td>\n",
       "      <td>no_profiler_b512_gpu1.log</td>\n",
       "    </tr>\n",
       "    <tr>\n",
       "      <th>3</th>\n",
       "      <td>0.244783</td>\n",
       "      <td>1.038044</td>\n",
       "      <td>1.314219</td>\n",
       "      <td>3.060932</td>\n",
       "      <td>no_profiler_b1024_gpu4.log</td>\n",
       "    </tr>\n",
       "    <tr>\n",
       "      <th>4</th>\n",
       "      <td>1.085003</td>\n",
       "      <td>1.310344</td>\n",
       "      <td>5.404364</td>\n",
       "      <td>0.992813</td>\n",
       "      <td>py-spy_b512_gpu1.log</td>\n",
       "    </tr>\n",
       "    <tr>\n",
       "      <th>5</th>\n",
       "      <td>0.309684</td>\n",
       "      <td>0.262709</td>\n",
       "      <td>2.998675</td>\n",
       "      <td>0.149951</td>\n",
       "      <td>py-spy_b1024_gpu4.log</td>\n",
       "    </tr>\n",
       "    <tr>\n",
       "      <th>6</th>\n",
       "      <td>1.961125</td>\n",
       "      <td>1.272693</td>\n",
       "      <td>4.711632</td>\n",
       "      <td>1.121397</td>\n",
       "      <td>scalene_b512_gpu1.log</td>\n",
       "    </tr>\n",
       "  </tbody>\n",
       "</table>\n",
       "</div>"
      ],
      "text/plain": [
       "    wall(s)   user(s)  kernel(s)  max_rss(KB)                   file_name\n",
       "0  1.001416  1.011553   1.062180     1.009760    custom_log_b512_gpu1.log\n",
       "1  0.247356  1.048468   1.305170     3.059655   custom_log_b1024_gpu4.log\n",
       "2  1.000000  1.000000   1.000000     1.000000   no_profiler_b512_gpu1.log\n",
       "3  0.244783  1.038044   1.314219     3.060932  no_profiler_b1024_gpu4.log\n",
       "4  1.085003  1.310344   5.404364     0.992813        py-spy_b512_gpu1.log\n",
       "5  0.309684  0.262709   2.998675     0.149951       py-spy_b1024_gpu4.log\n",
       "6  1.961125  1.272693   4.711632     1.121397       scalene_b512_gpu1.log"
      ]
     },
     "execution_count": 90,
     "metadata": {},
     "output_type": "execute_result"
    }
   ],
   "source": [
    "df_norm.head(len(df_norm))"
   ]
  },
  {
   "cell_type": "code",
   "execution_count": 91,
   "metadata": {},
   "outputs": [
    {
     "data": {
      "text/html": [
       "<div>\n",
       "<style scoped>\n",
       "    .dataframe tbody tr th:only-of-type {\n",
       "        vertical-align: middle;\n",
       "    }\n",
       "\n",
       "    .dataframe tbody tr th {\n",
       "        vertical-align: top;\n",
       "    }\n",
       "\n",
       "    .dataframe thead th {\n",
       "        text-align: right;\n",
       "    }\n",
       "</style>\n",
       "<table border=\"1\" class=\"dataframe\">\n",
       "  <thead>\n",
       "    <tr style=\"text-align: right;\">\n",
       "      <th></th>\n",
       "      <th>wall(s)</th>\n",
       "      <th>user(s)</th>\n",
       "      <th>kernel(s)</th>\n",
       "      <th>max_rss(KB)</th>\n",
       "      <th>file_name</th>\n",
       "    </tr>\n",
       "  </thead>\n",
       "  <tbody>\n",
       "    <tr>\n",
       "      <th>0</th>\n",
       "      <td>9459.55</td>\n",
       "      <td>8334.30</td>\n",
       "      <td>713.70</td>\n",
       "      <td>4756408</td>\n",
       "      <td>custom_log_b512_gpu1.log</td>\n",
       "    </tr>\n",
       "    <tr>\n",
       "      <th>1</th>\n",
       "      <td>2336.57</td>\n",
       "      <td>8638.44</td>\n",
       "      <td>876.97</td>\n",
       "      <td>14412296</td>\n",
       "      <td>custom_log_b1024_gpu4.log</td>\n",
       "    </tr>\n",
       "    <tr>\n",
       "      <th>2</th>\n",
       "      <td>9446.17</td>\n",
       "      <td>8239.11</td>\n",
       "      <td>671.92</td>\n",
       "      <td>4710432</td>\n",
       "      <td>no_profiler_b512_gpu1.log</td>\n",
       "    </tr>\n",
       "    <tr>\n",
       "      <th>3</th>\n",
       "      <td>2312.26</td>\n",
       "      <td>8552.56</td>\n",
       "      <td>883.05</td>\n",
       "      <td>14418312</td>\n",
       "      <td>no_profiler_b1024_gpu4.log</td>\n",
       "    </tr>\n",
       "    <tr>\n",
       "      <th>4</th>\n",
       "      <td>10249.12</td>\n",
       "      <td>10796.07</td>\n",
       "      <td>3631.30</td>\n",
       "      <td>4676580</td>\n",
       "      <td>py-spy_b512_gpu1.log</td>\n",
       "    </tr>\n",
       "    <tr>\n",
       "      <th>5</th>\n",
       "      <td>2925.33</td>\n",
       "      <td>2164.49</td>\n",
       "      <td>2014.87</td>\n",
       "      <td>706332</td>\n",
       "      <td>py-spy_b1024_gpu4.log</td>\n",
       "    </tr>\n",
       "    <tr>\n",
       "      <th>6</th>\n",
       "      <td>18525.12</td>\n",
       "      <td>10485.86</td>\n",
       "      <td>3165.84</td>\n",
       "      <td>5282264</td>\n",
       "      <td>scalene_b512_gpu1.log</td>\n",
       "    </tr>\n",
       "  </tbody>\n",
       "</table>\n",
       "</div>"
      ],
      "text/plain": [
       "    wall(s)   user(s)  kernel(s)  max_rss(KB)                   file_name\n",
       "0   9459.55   8334.30     713.70      4756408    custom_log_b512_gpu1.log\n",
       "1   2336.57   8638.44     876.97     14412296   custom_log_b1024_gpu4.log\n",
       "2   9446.17   8239.11     671.92      4710432   no_profiler_b512_gpu1.log\n",
       "3   2312.26   8552.56     883.05     14418312  no_profiler_b1024_gpu4.log\n",
       "4  10249.12  10796.07    3631.30      4676580        py-spy_b512_gpu1.log\n",
       "5   2925.33   2164.49    2014.87       706332       py-spy_b1024_gpu4.log\n",
       "6  18525.12  10485.86    3165.84      5282264       scalene_b512_gpu1.log"
      ]
     },
     "execution_count": 91,
     "metadata": {},
     "output_type": "execute_result"
    }
   ],
   "source": [
    "df.head(len(df))"
   ]
  }
 ],
 "metadata": {
  "kernelspec": {
   "display_name": "torch2",
   "language": "python",
   "name": "python3"
  },
  "language_info": {
   "codemirror_mode": {
    "name": "ipython",
    "version": 3
   },
   "file_extension": ".py",
   "mimetype": "text/x-python",
   "name": "python",
   "nbconvert_exporter": "python",
   "pygments_lexer": "ipython3",
   "version": "3.10.11"
  }
 },
 "nbformat": 4,
 "nbformat_minor": 2
}

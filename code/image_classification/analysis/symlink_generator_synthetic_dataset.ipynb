{
 "cells": [
  {
   "cell_type": "code",
   "execution_count": 1,
   "metadata": {},
   "outputs": [],
   "source": [
    "import os"
   ]
  },
  {
   "cell_type": "code",
   "execution_count": 5,
   "metadata": {},
   "outputs": [],
   "source": [
    "# Below is done so that number of bytes processed are the same.\n",
    "# 103 comes from (10GB / 100 MB) random image -> 10,737,418,240 / 104282153\n",
    "# 1018 comes from (10GB / 10 MB) random image -> 10,737,418,240 / 10546772\n",
    "# 9800 comes from (10GB / 1 MB) random image -> 10,737,418,240 / 1095629\n",
    "\n",
    "one_mb_setting = ('/mydata/synthetic_data_1MBeach_10GBtotal_symlink/random_image1MB.jpg',9800,'/mydata/synthetic_data_1MBeach_10GBtotal/train/class_1')\n",
    "ten_mb_setting = ('/mydata/synthetic_data_10MBeach_10GBtotal_symlink/random_image10MB.jpg',1018,'/mydata/synthetic_data_10MBeach_10GBtotal/train/class_1')\n",
    "hundred_mb_setting = ('/mydata/synthetic_data_100MBeach_10GBtotal_symlink/random_image100MB.jpg',103,'/mydata/synthetic_data_100MBeach_10GBtotal/train/class_1')\n",
    "\n",
    "settings = [one_mb_setting, ten_mb_setting, hundred_mb_setting]\n",
    "\n",
    "for img_file,num_files,symlink_dir_path in settings:\n",
    "    # Define the source file path\n",
    "    src_path = os.path.expanduser(img_file)\n",
    "\n",
    "    # Create the symlinks\n",
    "    for i in range(num_files):\n",
    "        # Define the symlink file path\n",
    "        symlink_path = os.path.expanduser(f'{symlink_dir_path}/symlink_{i}.jpg')\n",
    "        \n",
    "        # Create the symlink\n",
    "        os.symlink(src_path, symlink_path)"
   ]
  },
  {
   "cell_type": "code",
   "execution_count": 5,
   "metadata": {},
   "outputs": [],
   "source": [
    "# Below is done so that number of batches are the same, for a fixed batch size.\n",
    "# Each dataset will have 8192 image files\n",
    "one_mb_setting = ('/mydata/synthetic_data_1MBeach_10GBtotal_symlink/random_image1MB.jpg',8192,'/mydata/synthetic_data_1MBeach_8192files_symlink/train/class_1')\n",
    "ten_mb_setting = ('/mydata/synthetic_data_10MBeach_10GBtotal_symlink/random_image10MB.jpg',8192,'/mydata/synthetic_data_10MBeach_8192files_symlink/train/class_1')\n",
    "hundred_mb_setting = ('/mydata/synthetic_data_100MBeach_10GBtotal_symlink/random_image100MB.jpg',8192,'/mydata/synthetic_data_100MBeach_8192files_symlink/train/class_1')\n",
    "\n",
    "settings = [one_mb_setting, ten_mb_setting, hundred_mb_setting]\n",
    "\n",
    "for img_file,num_files,symlink_dir_path in settings:\n",
    "    # Define the source file path\n",
    "    src_path = os.path.expanduser(img_file)\n",
    "\n",
    "    # Check if the symlink directory exists\n",
    "    if not os.path.exists(symlink_dir_path):\n",
    "        os.makedirs(symlink_dir_path)\n",
    "\n",
    "    # Create the symlinks\n",
    "    for i in range(num_files):\n",
    "        # Define the symlink file path\n",
    "        symlink_path = os.path.expanduser(f'{symlink_dir_path}/symlink_{i}.jpg')\n",
    "        \n",
    "        # Create the symlink\n",
    "        os.symlink(src_path, symlink_path)"
   ]
  },
  {
   "cell_type": "code",
   "execution_count": null,
   "metadata": {},
   "outputs": [],
   "source": [
    "# rm -rf /mydata/synthetic_data_1MBeach_100Kfiles_symlink/\n",
    "# rm -rf /mydata/synthetic_data_10MBeach_100Kfiles_symlink/\n",
    "# rm -rf /mydata/synthetic_data_100MBeach_100Kfiles_symlink/"
   ]
  },
  {
   "cell_type": "code",
   "execution_count": null,
   "metadata": {},
   "outputs": [],
   "source": [
    "# Below is done so that number of batches are the same.\n",
    "# Batch sizes will be 128 and 256\n",
    "ten_mb_setting_128 = ('/mydata/synthetic_data_10MBeach_10GBtotal_symlink/random_image10MB.jpg',4096,'/mydata/synthetic_data_10MBeach_4096files_symlink/train/class_1')\n",
    "# ten_mb_setting_256 = ('/mydata/synthetic_data_10MBeach_10GBtotal_symlink/random_image10MB.jpg',8192,'/mydata/synthetic_data_10MBeach_100Kfiles_symlink/train/class_1')\n",
    "\n",
    "settings = [ten_mb_setting_128]\n",
    "\n",
    "for img_file,num_files,symlink_dir_path in settings:\n",
    "    # Define the source file path\n",
    "    src_path = os.path.expanduser(img_file)\n",
    "\n",
    "    # Check if the symlink directory exists\n",
    "    if not os.path.exists(symlink_dir_path):\n",
    "        os.makedirs(symlink_dir_path)\n",
    "\n",
    "    # Create the symlinks\n",
    "    for i in range(num_files):\n",
    "        # Define the symlink file path\n",
    "        symlink_path = os.path.expanduser(f'{symlink_dir_path}/symlink_{i}.jpg')\n",
    "        \n",
    "        # Create the symlink\n",
    "        os.symlink(src_path, symlink_path)"
   ]
  }
 ],
 "metadata": {
  "kernelspec": {
   "display_name": "base",
   "language": "python",
   "name": "python3"
  },
  "language_info": {
   "codemirror_mode": {
    "name": "ipython",
    "version": 3
   },
   "file_extension": ".py",
   "mimetype": "text/x-python",
   "name": "python",
   "nbconvert_exporter": "python",
   "pygments_lexer": "ipython3",
   "version": "3.10.11"
  },
  "orig_nbformat": 4
 },
 "nbformat": 4,
 "nbformat_minor": 2
}
